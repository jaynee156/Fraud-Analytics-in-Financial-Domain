{
  "nbformat": 4,
  "nbformat_minor": 0,
  "metadata": {
    "colab": {
      "name": "Copy of FraudAnalyticsSpectralClustering.ipynb",
      "provenance": [],
      "collapsed_sections": []
    },
    "kernelspec": {
      "name": "python3",
      "display_name": "Python 3"
    }
  },
  "cells": [
    {
      "cell_type": "code",
      "metadata": {
        "id": "aosd2R_pZEeU"
      },
      "source": [
        "# Essentials\n",
        "import numpy as np\n",
        "import pandas as pd\n",
        "import datetime\n",
        "import random\n",
        "from pandas_profiling import ProfileReport\n",
        "from scipy.stats import skew, norm\n",
        "from sklearn.cluster import KMeans\n",
        "from IPython.display import display, HTML\n",
        "%matplotlib inline\n",
        " \n",
        " \n",
        "# Plots\n",
        "import seaborn as sns\n",
        "import matplotlib.pyplot as plt\n",
        " \n",
        "# Warnings\n",
        "import warnings\n",
        "warnings.simplefilter(action='ignore', category=FutureWarning)"
      ],
      "execution_count": null,
      "outputs": []
    },
    {
      "cell_type": "code",
      "metadata": {
        "id": "00sj2BYn0GeN",
        "colab": {
          "base_uri": "https://localhost:8080/",
          "height": 17
        },
        "outputId": "54437dc6-a195-41a0-85c0-1429d432d9be"
      },
      "source": [
        "CSS = \"\"\"\n",
        "div.cell:nth-child(30) .output {\n",
        "    flex-direction: row;\n",
        "}\n",
        "\"\"\"\n",
        " \n",
        "HTML('<style>{}</style>'.format(CSS))"
      ],
      "execution_count": null,
      "outputs": [
        {
          "output_type": "execute_result",
          "data": {
            "text/html": [
              "<style>\n",
              "div.cell:nth-child(30) .output {\n",
              "    flex-direction: row;\n",
              "}\n",
              "</style>"
            ],
            "text/plain": [
              "<IPython.core.display.HTML object>"
            ]
          },
          "metadata": {
            "tags": []
          },
          "execution_count": 3
        }
      ]
    },
    {
      "cell_type": "code",
      "metadata": {
        "id": "ujdP4aHib8tB",
        "colab": {
          "base_uri": "https://localhost:8080/"
        },
        "outputId": "c2758e07-dcfa-4170-cc88-5513d95fabcf"
      },
      "source": [
        "!ls -lrth"
      ],
      "execution_count": null,
      "outputs": [
        {
          "output_type": "stream",
          "text": [
            "total 4.0K\n",
            "drwxr-xr-x 1 root root 4.0K Nov  6 17:30 sample_data\n"
          ],
          "name": "stdout"
        }
      ]
    },
    {
      "cell_type": "code",
      "metadata": {
        "id": "5OzA7NZbb_s8",
        "colab": {
          "base_uri": "https://localhost:8080/",
          "height": 723
        },
        "outputId": "c343f154-990b-4f28-e081-a828ca49a3b0"
      },
      "source": [
        "correlated_data = pd.read_csv(\"/content/drive/My Drive/Colab Notebooks/Data/MAIL_TO_REG_STUD_136282_1177344_20200918_065944_532.csv\")"
      ],
      "execution_count": null,
      "outputs": [
        {
          "output_type": "error",
          "ename": "FileNotFoundError",
          "evalue": "ignored",
          "traceback": [
            "\u001b[0;31m---------------------------------------------------------------------------\u001b[0m",
            "\u001b[0;31mFileNotFoundError\u001b[0m                         Traceback (most recent call last)",
            "\u001b[0;32m<ipython-input-5-fa3f362ee7bd>\u001b[0m in \u001b[0;36m<module>\u001b[0;34m()\u001b[0m\n\u001b[0;32m----> 1\u001b[0;31m \u001b[0mcorrelated_data\u001b[0m \u001b[0;34m=\u001b[0m \u001b[0mpd\u001b[0m\u001b[0;34m.\u001b[0m\u001b[0mread_csv\u001b[0m\u001b[0;34m(\u001b[0m\u001b[0;34m\"/content/drive/My Drive/Colab Notebooks/Data/MAIL_TO_REG_STUD_136282_1177344_20200918_065944_532.csv\"\u001b[0m\u001b[0;34m)\u001b[0m\u001b[0;34m\u001b[0m\u001b[0;34m\u001b[0m\u001b[0m\n\u001b[0m",
            "\u001b[0;32m/usr/local/lib/python3.6/dist-packages/pandas/io/parsers.py\u001b[0m in \u001b[0;36mread_csv\u001b[0;34m(filepath_or_buffer, sep, delimiter, header, names, index_col, usecols, squeeze, prefix, mangle_dupe_cols, dtype, engine, converters, true_values, false_values, skipinitialspace, skiprows, skipfooter, nrows, na_values, keep_default_na, na_filter, verbose, skip_blank_lines, parse_dates, infer_datetime_format, keep_date_col, date_parser, dayfirst, cache_dates, iterator, chunksize, compression, thousands, decimal, lineterminator, quotechar, quoting, doublequote, escapechar, comment, encoding, dialect, error_bad_lines, warn_bad_lines, delim_whitespace, low_memory, memory_map, float_precision)\u001b[0m\n\u001b[1;32m    686\u001b[0m     )\n\u001b[1;32m    687\u001b[0m \u001b[0;34m\u001b[0m\u001b[0m\n\u001b[0;32m--> 688\u001b[0;31m     \u001b[0;32mreturn\u001b[0m \u001b[0m_read\u001b[0m\u001b[0;34m(\u001b[0m\u001b[0mfilepath_or_buffer\u001b[0m\u001b[0;34m,\u001b[0m \u001b[0mkwds\u001b[0m\u001b[0;34m)\u001b[0m\u001b[0;34m\u001b[0m\u001b[0;34m\u001b[0m\u001b[0m\n\u001b[0m\u001b[1;32m    689\u001b[0m \u001b[0;34m\u001b[0m\u001b[0m\n\u001b[1;32m    690\u001b[0m \u001b[0;34m\u001b[0m\u001b[0m\n",
            "\u001b[0;32m/usr/local/lib/python3.6/dist-packages/pandas/io/parsers.py\u001b[0m in \u001b[0;36m_read\u001b[0;34m(filepath_or_buffer, kwds)\u001b[0m\n\u001b[1;32m    452\u001b[0m \u001b[0;34m\u001b[0m\u001b[0m\n\u001b[1;32m    453\u001b[0m     \u001b[0;31m# Create the parser.\u001b[0m\u001b[0;34m\u001b[0m\u001b[0;34m\u001b[0m\u001b[0;34m\u001b[0m\u001b[0m\n\u001b[0;32m--> 454\u001b[0;31m     \u001b[0mparser\u001b[0m \u001b[0;34m=\u001b[0m \u001b[0mTextFileReader\u001b[0m\u001b[0;34m(\u001b[0m\u001b[0mfp_or_buf\u001b[0m\u001b[0;34m,\u001b[0m \u001b[0;34m**\u001b[0m\u001b[0mkwds\u001b[0m\u001b[0;34m)\u001b[0m\u001b[0;34m\u001b[0m\u001b[0;34m\u001b[0m\u001b[0m\n\u001b[0m\u001b[1;32m    455\u001b[0m \u001b[0;34m\u001b[0m\u001b[0m\n\u001b[1;32m    456\u001b[0m     \u001b[0;32mif\u001b[0m \u001b[0mchunksize\u001b[0m \u001b[0;32mor\u001b[0m \u001b[0miterator\u001b[0m\u001b[0;34m:\u001b[0m\u001b[0;34m\u001b[0m\u001b[0;34m\u001b[0m\u001b[0m\n",
            "\u001b[0;32m/usr/local/lib/python3.6/dist-packages/pandas/io/parsers.py\u001b[0m in \u001b[0;36m__init__\u001b[0;34m(self, f, engine, **kwds)\u001b[0m\n\u001b[1;32m    946\u001b[0m             \u001b[0mself\u001b[0m\u001b[0;34m.\u001b[0m\u001b[0moptions\u001b[0m\u001b[0;34m[\u001b[0m\u001b[0;34m\"has_index_names\"\u001b[0m\u001b[0;34m]\u001b[0m \u001b[0;34m=\u001b[0m \u001b[0mkwds\u001b[0m\u001b[0;34m[\u001b[0m\u001b[0;34m\"has_index_names\"\u001b[0m\u001b[0;34m]\u001b[0m\u001b[0;34m\u001b[0m\u001b[0;34m\u001b[0m\u001b[0m\n\u001b[1;32m    947\u001b[0m \u001b[0;34m\u001b[0m\u001b[0m\n\u001b[0;32m--> 948\u001b[0;31m         \u001b[0mself\u001b[0m\u001b[0;34m.\u001b[0m\u001b[0m_make_engine\u001b[0m\u001b[0;34m(\u001b[0m\u001b[0mself\u001b[0m\u001b[0;34m.\u001b[0m\u001b[0mengine\u001b[0m\u001b[0;34m)\u001b[0m\u001b[0;34m\u001b[0m\u001b[0;34m\u001b[0m\u001b[0m\n\u001b[0m\u001b[1;32m    949\u001b[0m \u001b[0;34m\u001b[0m\u001b[0m\n\u001b[1;32m    950\u001b[0m     \u001b[0;32mdef\u001b[0m \u001b[0mclose\u001b[0m\u001b[0;34m(\u001b[0m\u001b[0mself\u001b[0m\u001b[0;34m)\u001b[0m\u001b[0;34m:\u001b[0m\u001b[0;34m\u001b[0m\u001b[0;34m\u001b[0m\u001b[0m\n",
            "\u001b[0;32m/usr/local/lib/python3.6/dist-packages/pandas/io/parsers.py\u001b[0m in \u001b[0;36m_make_engine\u001b[0;34m(self, engine)\u001b[0m\n\u001b[1;32m   1178\u001b[0m     \u001b[0;32mdef\u001b[0m \u001b[0m_make_engine\u001b[0m\u001b[0;34m(\u001b[0m\u001b[0mself\u001b[0m\u001b[0;34m,\u001b[0m \u001b[0mengine\u001b[0m\u001b[0;34m=\u001b[0m\u001b[0;34m\"c\"\u001b[0m\u001b[0;34m)\u001b[0m\u001b[0;34m:\u001b[0m\u001b[0;34m\u001b[0m\u001b[0;34m\u001b[0m\u001b[0m\n\u001b[1;32m   1179\u001b[0m         \u001b[0;32mif\u001b[0m \u001b[0mengine\u001b[0m \u001b[0;34m==\u001b[0m \u001b[0;34m\"c\"\u001b[0m\u001b[0;34m:\u001b[0m\u001b[0;34m\u001b[0m\u001b[0;34m\u001b[0m\u001b[0m\n\u001b[0;32m-> 1180\u001b[0;31m             \u001b[0mself\u001b[0m\u001b[0;34m.\u001b[0m\u001b[0m_engine\u001b[0m \u001b[0;34m=\u001b[0m \u001b[0mCParserWrapper\u001b[0m\u001b[0;34m(\u001b[0m\u001b[0mself\u001b[0m\u001b[0;34m.\u001b[0m\u001b[0mf\u001b[0m\u001b[0;34m,\u001b[0m \u001b[0;34m**\u001b[0m\u001b[0mself\u001b[0m\u001b[0;34m.\u001b[0m\u001b[0moptions\u001b[0m\u001b[0;34m)\u001b[0m\u001b[0;34m\u001b[0m\u001b[0;34m\u001b[0m\u001b[0m\n\u001b[0m\u001b[1;32m   1181\u001b[0m         \u001b[0;32melse\u001b[0m\u001b[0;34m:\u001b[0m\u001b[0;34m\u001b[0m\u001b[0;34m\u001b[0m\u001b[0m\n\u001b[1;32m   1182\u001b[0m             \u001b[0;32mif\u001b[0m \u001b[0mengine\u001b[0m \u001b[0;34m==\u001b[0m \u001b[0;34m\"python\"\u001b[0m\u001b[0;34m:\u001b[0m\u001b[0;34m\u001b[0m\u001b[0;34m\u001b[0m\u001b[0m\n",
            "\u001b[0;32m/usr/local/lib/python3.6/dist-packages/pandas/io/parsers.py\u001b[0m in \u001b[0;36m__init__\u001b[0;34m(self, src, **kwds)\u001b[0m\n\u001b[1;32m   2008\u001b[0m         \u001b[0mkwds\u001b[0m\u001b[0;34m[\u001b[0m\u001b[0;34m\"usecols\"\u001b[0m\u001b[0;34m]\u001b[0m \u001b[0;34m=\u001b[0m \u001b[0mself\u001b[0m\u001b[0;34m.\u001b[0m\u001b[0musecols\u001b[0m\u001b[0;34m\u001b[0m\u001b[0;34m\u001b[0m\u001b[0m\n\u001b[1;32m   2009\u001b[0m \u001b[0;34m\u001b[0m\u001b[0m\n\u001b[0;32m-> 2010\u001b[0;31m         \u001b[0mself\u001b[0m\u001b[0;34m.\u001b[0m\u001b[0m_reader\u001b[0m \u001b[0;34m=\u001b[0m \u001b[0mparsers\u001b[0m\u001b[0;34m.\u001b[0m\u001b[0mTextReader\u001b[0m\u001b[0;34m(\u001b[0m\u001b[0msrc\u001b[0m\u001b[0;34m,\u001b[0m \u001b[0;34m**\u001b[0m\u001b[0mkwds\u001b[0m\u001b[0;34m)\u001b[0m\u001b[0;34m\u001b[0m\u001b[0;34m\u001b[0m\u001b[0m\n\u001b[0m\u001b[1;32m   2011\u001b[0m         \u001b[0mself\u001b[0m\u001b[0;34m.\u001b[0m\u001b[0munnamed_cols\u001b[0m \u001b[0;34m=\u001b[0m \u001b[0mself\u001b[0m\u001b[0;34m.\u001b[0m\u001b[0m_reader\u001b[0m\u001b[0;34m.\u001b[0m\u001b[0munnamed_cols\u001b[0m\u001b[0;34m\u001b[0m\u001b[0;34m\u001b[0m\u001b[0m\n\u001b[1;32m   2012\u001b[0m \u001b[0;34m\u001b[0m\u001b[0m\n",
            "\u001b[0;32mpandas/_libs/parsers.pyx\u001b[0m in \u001b[0;36mpandas._libs.parsers.TextReader.__cinit__\u001b[0;34m()\u001b[0m\n",
            "\u001b[0;32mpandas/_libs/parsers.pyx\u001b[0m in \u001b[0;36mpandas._libs.parsers.TextReader._setup_parser_source\u001b[0;34m()\u001b[0m\n",
            "\u001b[0;31mFileNotFoundError\u001b[0m: [Errno 2] No such file or directory: '/content/drive/My Drive/Colab Notebooks/Data/MAIL_TO_REG_STUD_136282_1177344_20200918_065944_532.csv'"
          ]
        }
      ]
    },
    {
      "cell_type": "code",
      "metadata": {
        "id": "cQ04g7OPcDH7",
        "colab": {
          "base_uri": "https://localhost:8080/",
          "height": 163
        },
        "outputId": "02934117-2114-4af7-d3d3-0b4c8d6c86c7"
      },
      "source": [
        "correlated_data.describe()       "
      ],
      "execution_count": null,
      "outputs": [
        {
          "output_type": "error",
          "ename": "NameError",
          "evalue": "ignored",
          "traceback": [
            "\u001b[0;31m---------------------------------------------------------------------------\u001b[0m",
            "\u001b[0;31mNameError\u001b[0m                                 Traceback (most recent call last)",
            "\u001b[0;32m<ipython-input-9-2a6540866fef>\u001b[0m in \u001b[0;36m<module>\u001b[0;34m()\u001b[0m\n\u001b[0;32m----> 1\u001b[0;31m \u001b[0mcorrelated_data\u001b[0m\u001b[0;34m.\u001b[0m\u001b[0mdescribe\u001b[0m\u001b[0;34m(\u001b[0m\u001b[0;34m)\u001b[0m\u001b[0;34m\u001b[0m\u001b[0;34m\u001b[0m\u001b[0m\n\u001b[0m",
            "\u001b[0;31mNameError\u001b[0m: name 'correlated_data' is not defined"
          ]
        }
      ]
    },
    {
      "cell_type": "markdown",
      "metadata": {
        "id": "-Bzru0hNd5o3"
      },
      "source": [
        "# Insights\n",
        "\n",
        "\n",
        "\n",
        "1.   P1 to P6 are in the range of -1 to +1 and are likely to be correlation paramters\n",
        "2.   In P7 and P9 the range of values is very short till 75% after that it increases hugely showing abnormality in data.\n",
        "3. P7 to P9 are ratio paramters and we need to see where their ratio becomes more than 2.\n",
        "\n",
        "\n"
      ]
    },
    {
      "cell_type": "code",
      "metadata": {
        "id": "u2fUedhQc0QM",
        "colab": {
          "base_uri": "https://localhost:8080/",
          "height": 163
        },
        "outputId": "4135be4b-066b-4653-a409-d4fca8a4e29a"
      },
      "source": [
        "correlated_data[correlated_data.P9 > 2]"
      ],
      "execution_count": null,
      "outputs": [
        {
          "output_type": "error",
          "ename": "NameError",
          "evalue": "ignored",
          "traceback": [
            "\u001b[0;31m---------------------------------------------------------------------------\u001b[0m",
            "\u001b[0;31mNameError\u001b[0m                                 Traceback (most recent call last)",
            "\u001b[0;32m<ipython-input-10-7338b8e3d547>\u001b[0m in \u001b[0;36m<module>\u001b[0;34m()\u001b[0m\n\u001b[0;32m----> 1\u001b[0;31m \u001b[0mcorrelated_data\u001b[0m\u001b[0;34m[\u001b[0m\u001b[0mcorrelated_data\u001b[0m\u001b[0;34m.\u001b[0m\u001b[0mP9\u001b[0m \u001b[0;34m>\u001b[0m \u001b[0;36m2\u001b[0m\u001b[0;34m]\u001b[0m\u001b[0;34m\u001b[0m\u001b[0;34m\u001b[0m\u001b[0m\n\u001b[0m",
            "\u001b[0;31mNameError\u001b[0m: name 'correlated_data' is not defined"
          ]
        }
      ]
    },
    {
      "cell_type": "code",
      "metadata": {
        "id": "6lZV0GdSpTCL",
        "colab": {
          "base_uri": "https://localhost:8080/",
          "height": 322
        },
        "outputId": "be47e99c-409e-494f-84bd-4d8d8616d34f"
      },
      "source": [
        "## Check if features are missing\n",
        "pd.DataFrame(correlated_data.isnull().sum()/len(correlated_data)*100).reset_index().rename(columns={\"index\": \"Features\", 0: \"Missing %\"})"
      ],
      "execution_count": null,
      "outputs": [
        {
          "output_type": "error",
          "ename": "NameError",
          "evalue": "ignored",
          "traceback": [
            "\u001b[0;31m---------------------------------------------------------------------------\u001b[0m",
            "\u001b[0;31mNameError\u001b[0m                                 Traceback (most recent call last)",
            "\u001b[0;32m<ipython-input-6-8ae29ec2a38e>\u001b[0m in \u001b[0;36m<module>\u001b[0;34m()\u001b[0m\n\u001b[1;32m      1\u001b[0m \u001b[0;31m## Check if features are missing\u001b[0m\u001b[0;34m\u001b[0m\u001b[0;34m\u001b[0m\u001b[0;34m\u001b[0m\u001b[0m\n\u001b[0;32m----> 2\u001b[0;31m \u001b[0mpd\u001b[0m\u001b[0;34m.\u001b[0m\u001b[0mDataFrame\u001b[0m\u001b[0;34m(\u001b[0m\u001b[0mcorrelated_data\u001b[0m\u001b[0;34m.\u001b[0m\u001b[0misnull\u001b[0m\u001b[0;34m(\u001b[0m\u001b[0;34m)\u001b[0m\u001b[0;34m.\u001b[0m\u001b[0msum\u001b[0m\u001b[0;34m(\u001b[0m\u001b[0;34m)\u001b[0m\u001b[0;34m/\u001b[0m\u001b[0mlen\u001b[0m\u001b[0;34m(\u001b[0m\u001b[0mcorrelated_data\u001b[0m\u001b[0;34m)\u001b[0m\u001b[0;34m*\u001b[0m\u001b[0;36m100\u001b[0m\u001b[0;34m)\u001b[0m\u001b[0;34m.\u001b[0m\u001b[0mreset_index\u001b[0m\u001b[0;34m(\u001b[0m\u001b[0;34m)\u001b[0m\u001b[0;34m.\u001b[0m\u001b[0mrename\u001b[0m\u001b[0;34m(\u001b[0m\u001b[0mcolumns\u001b[0m\u001b[0;34m=\u001b[0m\u001b[0;34m{\u001b[0m\u001b[0;34m\"index\"\u001b[0m\u001b[0;34m:\u001b[0m \u001b[0;34m\"Features\"\u001b[0m\u001b[0;34m,\u001b[0m \u001b[0;36m0\u001b[0m\u001b[0;34m:\u001b[0m \u001b[0;34m\"Missing %\"\u001b[0m\u001b[0;34m}\u001b[0m\u001b[0;34m)\u001b[0m\u001b[0;34m\u001b[0m\u001b[0;34m\u001b[0m\u001b[0m\n\u001b[0m",
            "\u001b[0;31mNameError\u001b[0m: name 'correlated_data' is not defined"
          ]
        }
      ]
    },
    {
      "cell_type": "code",
      "metadata": {
        "id": "H9W-Lvz7pTws",
        "colab": {
          "base_uri": "https://localhost:8080/",
          "height": 231
        },
        "outputId": "cdeec090-adb4-4bff-d628-380603361eaa"
      },
      "source": [
        "correlation_train=correlated_data.corr(\"pearson\")\n",
        "sns.set(font_scale=2)\n",
        "fig = plt.figure(figsize = (45,32))\n",
        "ax = sns.heatmap(  correlation_train     , annot=True,annot_kws={\"size\": 25},fmt='.1f',cmap='PiYG', linewidths=.5)\n",
        "fig.show()"
      ],
      "execution_count": null,
      "outputs": [
        {
          "output_type": "error",
          "ename": "NameError",
          "evalue": "ignored",
          "traceback": [
            "\u001b[0;31m---------------------------------------------------------------------------\u001b[0m",
            "\u001b[0;31mNameError\u001b[0m                                 Traceback (most recent call last)",
            "\u001b[0;32m<ipython-input-11-7dd53194d6b2>\u001b[0m in \u001b[0;36m<module>\u001b[0;34m()\u001b[0m\n\u001b[0;32m----> 1\u001b[0;31m \u001b[0mcorrelation_train\u001b[0m\u001b[0;34m=\u001b[0m\u001b[0mcorrelated_data\u001b[0m\u001b[0;34m.\u001b[0m\u001b[0mcorr\u001b[0m\u001b[0;34m(\u001b[0m\u001b[0;34m\"pearson\"\u001b[0m\u001b[0;34m)\u001b[0m\u001b[0;34m\u001b[0m\u001b[0;34m\u001b[0m\u001b[0m\n\u001b[0m\u001b[1;32m      2\u001b[0m \u001b[0msns\u001b[0m\u001b[0;34m.\u001b[0m\u001b[0mset\u001b[0m\u001b[0;34m(\u001b[0m\u001b[0mfont_scale\u001b[0m\u001b[0;34m=\u001b[0m\u001b[0;36m2\u001b[0m\u001b[0;34m)\u001b[0m\u001b[0;34m\u001b[0m\u001b[0;34m\u001b[0m\u001b[0m\n\u001b[1;32m      3\u001b[0m \u001b[0mfig\u001b[0m \u001b[0;34m=\u001b[0m \u001b[0mplt\u001b[0m\u001b[0;34m.\u001b[0m\u001b[0mfigure\u001b[0m\u001b[0;34m(\u001b[0m\u001b[0mfigsize\u001b[0m \u001b[0;34m=\u001b[0m \u001b[0;34m(\u001b[0m\u001b[0;36m45\u001b[0m\u001b[0;34m,\u001b[0m\u001b[0;36m32\u001b[0m\u001b[0;34m)\u001b[0m\u001b[0;34m)\u001b[0m\u001b[0;34m\u001b[0m\u001b[0;34m\u001b[0m\u001b[0m\n\u001b[1;32m      4\u001b[0m \u001b[0max\u001b[0m \u001b[0;34m=\u001b[0m \u001b[0msns\u001b[0m\u001b[0;34m.\u001b[0m\u001b[0mheatmap\u001b[0m\u001b[0;34m(\u001b[0m  \u001b[0mcorrelation_train\u001b[0m     \u001b[0;34m,\u001b[0m \u001b[0mannot\u001b[0m\u001b[0;34m=\u001b[0m\u001b[0;32mTrue\u001b[0m\u001b[0;34m,\u001b[0m\u001b[0mannot_kws\u001b[0m\u001b[0;34m=\u001b[0m\u001b[0;34m{\u001b[0m\u001b[0;34m\"size\"\u001b[0m\u001b[0;34m:\u001b[0m \u001b[0;36m25\u001b[0m\u001b[0;34m}\u001b[0m\u001b[0;34m,\u001b[0m\u001b[0mfmt\u001b[0m\u001b[0;34m=\u001b[0m\u001b[0;34m'.1f'\u001b[0m\u001b[0;34m,\u001b[0m\u001b[0mcmap\u001b[0m\u001b[0;34m=\u001b[0m\u001b[0;34m'PiYG'\u001b[0m\u001b[0;34m,\u001b[0m \u001b[0mlinewidths\u001b[0m\u001b[0;34m=\u001b[0m\u001b[0;36m.5\u001b[0m\u001b[0;34m)\u001b[0m\u001b[0;34m\u001b[0m\u001b[0;34m\u001b[0m\u001b[0m\n\u001b[1;32m      5\u001b[0m \u001b[0mfig\u001b[0m\u001b[0;34m.\u001b[0m\u001b[0mshow\u001b[0m\u001b[0;34m(\u001b[0m\u001b[0;34m)\u001b[0m\u001b[0;34m\u001b[0m\u001b[0;34m\u001b[0m\u001b[0m\n",
            "\u001b[0;31mNameError\u001b[0m: name 'correlated_data' is not defined"
          ]
        }
      ]
    },
    {
      "cell_type": "markdown",
      "metadata": {
        "id": "z4ThNHfRtcSn"
      },
      "source": [
        "\n",
        "# Observation\n",
        "\n",
        "*   It is observed that P3 and P4 are highly positively correlated with correlation coefficient 0.9 and 0.7 respectively. \n",
        "\n"
      ]
    },
    {
      "cell_type": "code",
      "metadata": {
        "id": "MwwVC8LNMJ3K",
        "colab": {
          "base_uri": "https://localhost:8080/"
        },
        "outputId": "4e28da8f-c19a-4025-b602-df7fdbd1a4c1"
      },
      "source": [
        "for each_column in correlated_data:\n",
        "    print(each_column)"
      ],
      "execution_count": null,
      "outputs": [
        {
          "output_type": "stream",
          "text": [
            "P1\n",
            "P2\n",
            "P3\n",
            "P4\n",
            "P5\n",
            "P6\n",
            "P7\n",
            "P8\n",
            "P9\n"
          ],
          "name": "stdout"
        }
      ]
    },
    {
      "cell_type": "code",
      "metadata": {
        "id": "GGBG3CpsxAdl"
      },
      "source": [
        "numerical_features = \", \".join([each_column for each_column in correlated_data])"
      ],
      "execution_count": null,
      "outputs": []
    },
    {
      "cell_type": "code",
      "metadata": {
        "id": "i0zq4-sEqfgW",
        "colab": {
          "base_uri": "https://localhost:8080/",
          "height": 1000
        },
        "outputId": "d0877f4c-b9f3-43ff-91ec-055d3df8d818"
      },
      "source": [
        "#Distribution of all numerical variable\n",
        "\n",
        "#Creating figure for plot\n",
        "fig, axs = plt.subplots(ncols=4, nrows=0, figsize=(25.5, 20.5))\n",
        "plt.subplots_adjust(top=1.8)\n",
        "sns.color_palette(\"husl\", 8)\n",
        "\n",
        "#looping through each feature in order to plot it on the graph\n",
        "\n",
        "for index, feature in enumerate(numerical_features.split(\", \"), 1):\n",
        "        #Subplot for graph\n",
        "        plt.subplot(int(len(numerical_features.split(\", \"))/2),3, index)\n",
        "        sns.distplot(correlated_data[feature], fit=norm, kde=False)\n",
        "        \n",
        "        # Fitted parameters used by the function\n",
        "        if correlated_data[feature].isnull().sum() < 1: #Null values are not handled by scipy.stats.norm\n",
        "            (mu, sigma) = norm.fit(correlated_data[feature])\n",
        "        else:\n",
        "            (mu, sigma) = norm.fit(correlated_data[feature].dropna())\n",
        "            \n",
        "        plt.legend(['Normal dist. ($\\mu=$ {:.2f} and $\\sigma=$ {:.2f} )'.format(mu, sigma)],loc='best', prop={'size': 10}) #legend\n",
        "        plt.xlabel(f\"{feature}\", size=15,labelpad=12.5)\n",
        "        plt.ylabel(\"Frequency/Pcntg\", size=13,labelpad=11.5)\n",
        "        plt.tick_params(axis='x', labelsize=12)\n",
        "        plt.tick_params(axis='y', labelsize=11)\n",
        "\n",
        "plt.show()"
      ],
      "execution_count": null,
      "outputs": [
        {
          "output_type": "display_data",
          "data": {
            "image/png": "[encoded data removed]",
            "text/plain": [
              "<Figure size 1836x1476 with 9 Axes>"
            ]
          },
          "metadata": {
            "tags": []
          }
        }
      ]
    },
    {
      "cell_type": "code",
      "metadata": {
        "id": "-cAObE5BLd6z",
        "colab": {
          "base_uri": "https://localhost:8080/"
        },
        "outputId": "5a09d653-4489-445a-f82c-b46bb391c11b"
      },
      "source": [
        "import numpy as np\n",
        "\n",
        "# a 2x2 matrix\n",
        "A = np.array([[0,1],[-2,-3]])\n",
        "\n",
        "# find eigenvalues and eigenvectors\n",
        "vals, vecs = np.linalg.eig(A)\n",
        "\n",
        "# print results\n",
        "for i, value in enumerate(vals):\n",
        "    print(\"Eigenvector:\", vecs[:,i], \", Eigenvalue:\", value)"
      ],
      "execution_count": null,
      "outputs": [
        {
          "output_type": "stream",
          "text": [
            "Eigenvector: [ 0.70710678 -0.70710678] , Eigenvalue: -1.0\n",
            "Eigenvector: [-0.4472136   0.89442719] , Eigenvalue: -2.0\n"
          ],
          "name": "stdout"
        }
      ]
    },
    {
      "cell_type": "code",
      "metadata": {
        "id": "MhBBItJ6m30_"
      },
      "source": [
        "from sklearn.metrics.pairwise import rbf_kernel"
      ],
      "execution_count": null,
      "outputs": []
    },
    {
      "cell_type": "code",
      "metadata": {
        "id": "rWFfSV3fpMkq"
      },
      "source": [
        "adjacency_matrix = rbf_kernel(correlated_data)"
      ],
      "execution_count": null,
      "outputs": []
    },
    {
      "cell_type": "code",
      "metadata": {
        "id": "wAdkJ4RepXwe"
      },
      "source": [
        "D = np.diag(adjacency_matrix.sum(axis=1))"
      ],
      "execution_count": null,
      "outputs": []
    },
    {
      "cell_type": "code",
      "metadata": {
        "id": "xo8R92mgy1vG",
        "colab": {
          "base_uri": "https://localhost:8080/",
          "height": 235
        },
        "outputId": "7b4de84f-5663-41ce-c12d-89b5a91835d7"
      },
      "source": [
        "display(D)"
      ],
      "execution_count": null,
      "outputs": [
        {
          "output_type": "display_data",
          "data": {
            "text/plain": [
              "array([[688.57250488,   0.        ,   0.        , ...,   0.        ,\n",
              "          0.        ,   0.        ],\n",
              "       [  0.        , 607.25477922,   0.        , ...,   0.        ,\n",
              "          0.        ,   0.        ],\n",
              "       [  0.        ,   0.        , 880.79041694, ...,   0.        ,\n",
              "          0.        ,   0.        ],\n",
              "       ...,\n",
              "       [  0.        ,   0.        ,   0.        , ..., 917.52842133,\n",
              "          0.        ,   0.        ],\n",
              "       [  0.        ,   0.        ,   0.        , ...,   0.        ,\n",
              "        883.86612633,   0.        ],\n",
              "       [  0.        ,   0.        ,   0.        , ...,   0.        ,\n",
              "          0.        , 840.17510896]])"
            ]
          },
          "metadata": {
            "tags": []
          }
        }
      ]
    },
    {
      "cell_type": "code",
      "metadata": {
        "id": "SJsuD8IJy8rj",
        "colab": {
          "base_uri": "https://localhost:8080/"
        },
        "outputId": "a6d5db58-d836-4d79-bb6c-eddd1a606acc"
      },
      "source": [
        "L = D-adjacency_matrix\n",
        "print(L)"
      ],
      "execution_count": null,
      "outputs": [
        {
          "output_type": "stream",
          "text": [
            "[[ 6.87572505e+02 -5.80682920e-01 -7.00738598e-01 ... -6.11176743e-01\n",
            "  -4.67769785e-01 -4.92313853e-01]\n",
            " [-5.80682920e-01  6.06254779e+02 -6.72888077e-01 ... -4.27536509e-01\n",
            "  -2.90072944e-01 -2.73400954e-01]\n",
            " [-7.00738598e-01 -6.72888077e-01  8.79790417e+02 ... -7.81352350e-01\n",
            "  -6.97549351e-01 -6.23715137e-01]\n",
            " ...\n",
            " [-6.11176743e-01 -4.27536509e-01 -7.81352350e-01 ...  9.16528421e+02\n",
            "  -8.78599532e-01 -9.05942770e-01]\n",
            " [-4.67769785e-01 -2.90072944e-01 -6.97549351e-01 ... -8.78599532e-01\n",
            "   8.82866126e+02 -9.23066814e-01]\n",
            " [-4.92313853e-01 -2.73400954e-01 -6.23715137e-01 ... -9.05942770e-01\n",
            "  -9.23066814e-01  8.39175109e+02]]\n"
          ],
          "name": "stdout"
        }
      ]
    },
    {
      "cell_type": "code",
      "metadata": {
        "id": "iQDs9_ixzBvh"
      },
      "source": [
        "vals, vecs = np.linalg.eig(L)"
      ],
      "execution_count": null,
      "outputs": []
    },
    {
      "cell_type": "code",
      "metadata": {
        "id": "voisap9yzJqy"
      },
      "source": [
        "vecs = vecs[:,np.argsort(vals)]\n",
        "vals = vals[np.argsort(vals)]"
      ],
      "execution_count": null,
      "outputs": []
    },
    {
      "cell_type": "code",
      "metadata": {
        "id": "vAR-iCrFzL5Z",
        "colab": {
          "base_uri": "https://localhost:8080/"
        },
        "outputId": "82810f86-f558-4821-e113-4a12dec806fb"
      },
      "source": [
        "vals"
      ],
      "execution_count": null,
      "outputs": [
        {
          "output_type": "execute_result",
          "data": {
            "text/plain": [
              "array([-1.89070837e-13, -1.46549439e-14,  2.04755825e+00, ...,\n",
              "        9.67245150e+02,  9.67428245e+02,  9.68642290e+02])"
            ]
          },
          "metadata": {
            "tags": []
          },
          "execution_count": 113
        }
      ]
    },
    {
      "cell_type": "code",
      "metadata": {
        "id": "uqNl-6zA7BMi",
        "colab": {
          "base_uri": "https://localhost:8080/"
        },
        "outputId": "40de2c5a-7778-41ca-a29f-2d8c4e457f51"
      },
      "source": [
        "vecs.shape, vals.shape"
      ],
      "execution_count": null,
      "outputs": [
        {
          "output_type": "execute_result",
          "data": {
            "text/plain": [
              "((1163, 1163), (1163,))"
            ]
          },
          "metadata": {
            "tags": []
          },
          "execution_count": 114
        }
      ]
    },
    {
      "cell_type": "code",
      "metadata": {
        "id": "uLagKgEZa51_",
        "colab": {
          "base_uri": "https://localhost:8080/",
          "height": 542
        },
        "outputId": "f4f6378d-e7fe-4f6a-df30-30f2ae7a680c"
      },
      "source": [
        "import plotly.graph_objects as go\n",
        "import plotly.express as px\n",
        "\n",
        "df = pd.DataFrame(np.round(vals, 6), columns=[\"EigenValues\"])\n",
        "# values = list(range(0, 30)) + list(range(30, len(df), 50))\n",
        "fig = px.line(df, x=list(range(0, len(df))), y=\"EigenValues\", title=\"Eigen Values Distribution\", labels={\"x\": \"Eigen Number\"})\n",
        "fig.show()"
      ],
      "execution_count": null,
      "outputs": [
        {
          "output_type": "display_data",
          "data": {
            "text/html": [
              "<html>\n",
              "<head><meta charset=\"utf-8\" /></head>\n",
              "<body>\n",
              "    <div>\n",
              "            <script src=\"https://cdnjs.cloudflare.com/ajax/libs/mathjax/2.7.5/MathJax.js?config=TeX-AMS-MML_SVG\"></script><script type=\"text/javascript\">if (window.MathJax) {MathJax.Hub.Config({SVG: {font: \"STIX-Web\"}});}</script>\n",
              "                <script type=\"text/javascript\">window.PlotlyConfig = {MathJaxConfig: 'local'};</script>\n",
              "        <script src=\"https://cdn.plot.ly/plotly-latest.min.js\"></script>    \n",
              "            <div id=\"b8b7c9e6-4453-44f3-9634-142d436f6292\" class=\"plotly-graph-div\" style=\"height:525px; width:100%;\"></div>\n",
              "            <script type=\"text/javascript\">\n",
              "                \n",
              "                    window.PLOTLYENV=window.PLOTLYENV || {};\n",
              "                    \n",
              "                if (document.getElementById(\"b8b7c9e6-4453-44f3-9634-142d436f6292\")) {\n",
              "                    Plotly.newPlot(\n",
              "                        'b8b7c9e6-4453-44f3-9634-142d436f6292',\n",
              "                        [{\"hoverlabel\": {\"namelength\": 0}, \"hovertemplate\": \"Eigen Number=%{x}<br>EigenValues=%{y}\", \"legendgroup\": \"\", \"line\": {\"color\": \"#636efa\", \"dash\": \"solid\"}, \"mode\": \"lines\", \"name\": \"\", \"showlegend\": false, \"type\": \"scattergl\", \"x\": [0, 1, 2, 3, 4, 5, 6, 7, 8, 9, 10, 11, 12, 13, 14, 15, 16, 17, 18, 19, 20, 21, 22, 23, 24, 25, 26, 27, 28, 29, 30, 31, 32, 33, 34, 35, 36, 37, 38, 39, 40, 41, 42, 43, 44, 45, 46, 47, 48, 49, 50, 51, 52, 53, 54, 55, 56, 57, 58, 59, 60, 61, 62, 63, 64, 65, 66, 67, 68, 69, 70, 71, 72, 73, 74, 75, 76, 77, 78, 79, 80, 81, 82, 83, 84, 85, 86, 87, 88, 89, 90, 91, 92, 93, 94, 95, 96, 97, 98, 99, 100, 101, 102, 103, 104, 105, 106, 107, 108, 109, 110, 111, 112, 113, 114, 115, 116, 117, 118, 119, 120, 121, 122, 123, 124, 125, 126, 127, 128, 129, 130, 131, 132, 133, 134, 135, 136, 137, 138, 139, 140, 141, 142, 143, 144, 145, 146, 147, 148, 149, 150, 151, 152, 153, 154, 155, 156, 157, 158, 159, 160, 161, 162, 163, 164, 165, 166, 167, 168, 169, 170, 171, 172, 173, 174, 175, 176, 177, 178, 179, 180, 181, 182, 183, 184, 185, 186, 187, 188, 189, 190, 191, 192, 193, 194, 195, 196, 197, 198, 199, 200, 201, 202, 203, 204, 205, 206, 207, 208, 209, 210, 211, 212, 213, 214, 215, 216, 217, 218, 219, 220, 221, 222, 223, 224, 225, 226, 227, 228, 229, 230, 231, 232, 233, 234, 235, 236, 237, 238, 239, 240, 241, 242, 243, 244, 245, 246, 247, 248, 249, 250, 251, 252, 253, 254, 255, 256, 257, 258, 259, 260, 261, 262, 263, 264, 265, 266, 267, 268, 269, 270, 271, 272, 273, 274, 275, 276, 277, 278, 279, 280, 281, 282, 283, 284, 285, 286, 287, 288, 289, 290, 291, 292, 293, 294, 295, 296, 297, 298, 299, 300, 301, 302, 303, 304, 305, 306, 307, 308, 309, 310, 311, 312, 313, 314, 315, 316, 317, 318, 319, 320, 321, 322, 323, 324, 325, 326, 327, 328, 329, 330, 331, 332, 333, 334, 335, 336, 337, 338, 339, 340, 341, 342, 343, 344, 345, 346, 347, 348, 349, 350, 351, 352, 353, 354, 355, 356, 357, 358, 359, 360, 361, 362, 363, 364, 365, 366, 367, 368, 369, 370, 371, 372, 373, 374, 375, 376, 377, 378, 379, 380, 381, 382, 383, 384, 385, 386, 387, 388, 389, 390, 391, 392, 393, 394, 395, 396, 397, 398, 399, 400, 401, 402, 403, 404, 405, 406, 407, 408, 409, 410, 411, 412, 413, 414, 415, 416, 417, 418, 419, 420, 421, 422, 423, 424, 425, 426, 427, 428, 429, 430, 431, 432, 433, 434, 435, 436, 437, 438, 439, 440, 441, 442, 443, 444, 445, 446, 447, 448, 449, 450, 451, 452, 453, 454, 455, 456, 457, 458, 459, 460, 461, 462, 463, 464, 465, 466, 467, 468, 469, 470, 471, 472, 473, 474, 475, 476, 477, 478, 479, 480, 481, 482, 483, 484, 485, 486, 487, 488, 489, 490, 491, 492, 493, 494, 495, 496, 497, 498, 499, 500, 501, 502, 503, 504, 505, 506, 507, 508, 509, 510, 511, 512, 513, 514, 515, 516, 517, 518, 519, 520, 521, 522, 523, 524, 525, 526, 527, 528, 529, 530, 531, 532, 533, 534, 535, 536, 537, 538, 539, 540, 541, 542, 543, 544, 545, 546, 547, 548, 549, 550, 551, 552, 553, 554, 555, 556, 557, 558, 559, 560, 561, 562, 563, 564, 565, 566, 567, 568, 569, 570, 571, 572, 573, 574, 575, 576, 577, 578, 579, 580, 581, 582, 583, 584, 585, 586, 587, 588, 589, 590, 591, 592, 593, 594, 595, 596, 597, 598, 599, 600, 601, 602, 603, 604, 605, 606, 607, 608, 609, 610, 611, 612, 613, 614, 615, 616, 617, 618, 619, 620, 621, 622, 623, 624, 625, 626, 627, 628, 629, 630, 631, 632, 633, 634, 635, 636, 637, 638, 639, 640, 641, 642, 643, 644, 645, 646, 647, 648, 649, 650, 651, 652, 653, 654, 655, 656, 657, 658, 659, 660, 661, 662, 663, 664, 665, 666, 667, 668, 669, 670, 671, 672, 673, 674, 675, 676, 677, 678, 679, 680, 681, 682, 683, 684, 685, 686, 687, 688, 689, 690, 691, 692, 693, 694, 695, 696, 697, 698, 699, 700, 701, 702, 703, 704, 705, 706, 707, 708, 709, 710, 711, 712, 713, 714, 715, 716, 717, 718, 719, 720, 721, 722, 723, 724, 725, 726, 727, 728, 729, 730, 731, 732, 733, 734, 735, 736, 737, 738, 739, 740, 741, 742, 743, 744, 745, 746, 747, 748, 749, 750, 751, 752, 753, 754, 755, 756, 757, 758, 759, 760, 761, 762, 763, 764, 765, 766, 767, 768, 769, 770, 771, 772, 773, 774, 775, 776, 777, 778, 779, 780, 781, 782, 783, 784, 785, 786, 787, 788, 789, 790, 791, 792, 793, 794, 795, 796, 797, 798, 799, 800, 801, 802, 803, 804, 805, 806, 807, 808, 809, 810, 811, 812, 813, 814, 815, 816, 817, 818, 819, 820, 821, 822, 823, 824, 825, 826, 827, 828, 829, 830, 831, 832, 833, 834, 835, 836, 837, 838, 839, 840, 841, 842, 843, 844, 845, 846, 847, 848, 849, 850, 851, 852, 853, 854, 855, 856, 857, 858, 859, 860, 861, 862, 863, 864, 865, 866, 867, 868, 869, 870, 871, 872, 873, 874, 875, 876, 877, 878, 879, 880, 881, 882, 883, 884, 885, 886, 887, 888, 889, 890, 891, 892, 893, 894, 895, 896, 897, 898, 899, 900, 901, 902, 903, 904, 905, 906, 907, 908, 909, 910, 911, 912, 913, 914, 915, 916, 917, 918, 919, 920, 921, 922, 923, 924, 925, 926, 927, 928, 929, 930, 931, 932, 933, 934, 935, 936, 937, 938, 939, 940, 941, 942, 943, 944, 945, 946, 947, 948, 949, 950, 951, 952, 953, 954, 955, 956, 957, 958, 959, 960, 961, 962, 963, 964, 965, 966, 967, 968, 969, 970, 971, 972, 973, 974, 975, 976, 977, 978, 979, 980, 981, 982, 983, 984, 985, 986, 987, 988, 989, 990, 991, 992, 993, 994, 995, 996, 997, 998, 999, 1000, 1001, 1002, 1003, 1004, 1005, 1006, 1007, 1008, 1009, 1010, 1011, 1012, 1013, 1014, 1015, 1016, 1017, 1018, 1019, 1020, 1021, 1022, 1023, 1024, 1025, 1026, 1027, 1028, 1029, 1030, 1031, 1032, 1033, 1034, 1035, 1036, 1037, 1038, 1039, 1040, 1041, 1042, 1043, 1044, 1045, 1046, 1047, 1048, 1049, 1050, 1051, 1052, 1053, 1054, 1055, 1056, 1057, 1058, 1059, 1060, 1061, 1062, 1063, 1064, 1065, 1066, 1067, 1068, 1069, 1070, 1071, 1072, 1073, 1074, 1075, 1076, 1077, 1078, 1079, 1080, 1081, 1082, 1083, 1084, 1085, 1086, 1087, 1088, 1089, 1090, 1091, 1092, 1093, 1094, 1095, 1096, 1097, 1098, 1099, 1100, 1101, 1102, 1103, 1104, 1105, 1106, 1107, 1108, 1109, 1110, 1111, 1112, 1113, 1114, 1115, 1116, 1117, 1118, 1119, 1120, 1121, 1122, 1123, 1124, 1125, 1126, 1127, 1128, 1129, 1130, 1131, 1132, 1133, 1134, 1135, 1136, 1137, 1138, 1139, 1140, 1141, 1142, 1143, 1144, 1145, 1146, 1147, 1148, 1149, 1150, 1151, 1152, 1153, 1154, 1155, 1156, 1157, 1158, 1159, 1160, 1161, 1162], \"xaxis\": \"x\", \"y\": [-0.0, -0.0, 2.047558, 52.967335, 138.079445, 508.591849, 515.603609, 526.21871, 534.250776, 540.301887, 546.312147, 554.026794, 556.898498, 561.226349, 567.988985, 570.351896, 571.286169, 571.878922, 572.614258, 573.12431, 574.365961, 574.853592, 575.532656, 576.835778, 578.860271, 582.062894, 590.018858, 590.239092, 591.165149, 592.453989, 593.197942, 594.386619, 595.698262, 596.737336, 598.603643, 599.313378, 600.81747, 601.934865, 602.689045, 603.726676, 604.649815, 606.111936, 606.439287, 606.876265, 607.24418, 607.826652, 608.499847, 609.0552, 609.58537, 610.683063, 611.250381, 613.809336, 615.979939, 616.371037, 616.912912, 617.106115, 617.593736, 618.983766, 620.131856, 620.352786, 620.60386, 621.025567, 622.227921, 622.667661, 622.994195, 625.979157, 627.44717, 628.053396, 628.360449, 628.892086, 630.633827, 632.688286, 633.846245, 635.981231, 636.993719, 640.07184, 642.129435, 643.43485, 644.7888, 646.166293, 646.539807, 647.482134, 648.427651, 649.557794, 650.156172, 650.870815, 651.670516, 652.023418, 653.265889, 654.106145, 655.107793, 656.009718, 656.397731, 656.710735, 657.807237, 658.429368, 659.014403, 659.348507, 659.420899, 660.545093, 661.336955, 661.855804, 662.309901, 662.959127, 663.709084, 664.20078, 664.690638, 665.314257, 665.671902, 671.440538, 672.137407, 672.996467, 673.183259, 674.716804, 677.299403, 678.766478, 679.451186, 680.470419, 680.978696, 681.60499, 685.48542, 686.931231, 687.791057, 688.163003, 688.959406, 689.483161, 689.835957, 691.298238, 692.542806, 694.607804, 696.65402, 697.956515, 699.858003, 701.768916, 702.328231, 706.07672, 708.116529, 708.267605, 709.473804, 710.654717, 711.280328, 711.701564, 712.716916, 714.283578, 714.924884, 715.700111, 716.214488, 717.245946, 718.112369, 718.750756, 720.013014, 721.24413, 722.024113, 722.630289, 723.025666, 723.97995, 724.085368, 724.71007, 725.566464, 726.656067, 727.336705, 728.222853, 728.931091, 730.596461, 732.64903, 733.459662, 733.84626, 734.223409, 734.738172, 735.069365, 737.241537, 738.684199, 739.97422, 740.61505, 741.249187, 742.410978, 742.752406, 743.154893, 743.661442, 744.501413, 746.890856, 747.489011, 747.783125, 748.245866, 750.060479, 750.386896, 751.289089, 752.19807, 752.836413, 753.206044, 753.736055, 755.105787, 757.330266, 758.237511, 759.749539, 760.060844, 760.819896, 761.873215, 763.405418, 764.931439, 765.408574, 765.627832, 766.044609, 766.134796, 766.402187, 766.708916, 766.899584, 767.019209, 767.397155, 767.514804, 768.425984, 769.435729, 770.265542, 771.147966, 771.406084, 771.80227, 772.849835, 773.206303, 773.380867, 774.075959, 774.426144, 774.654073, 774.919459, 775.327648, 775.436043, 775.940672, 776.283683, 776.981047, 777.589157, 777.978714, 778.305762, 778.765331, 778.800844, 779.051452, 779.324855, 779.732573, 780.400568, 780.67489, 781.064364, 781.17341, 781.995983, 782.807861, 783.75041, 784.066389, 784.321259, 786.423155, 787.033112, 787.934527, 788.393775, 788.711801, 788.957556, 789.076835, 789.123734, 789.363468, 789.992282, 790.640379, 790.847192, 791.032527, 791.322248, 791.958783, 792.464873, 792.594519, 793.090804, 794.309516, 794.570856, 795.382055, 795.536838, 795.751035, 796.066505, 796.317039, 796.619251, 796.962684, 797.013224, 797.123396, 797.43767, 797.825813, 798.024796, 798.07267, 799.470051, 799.666062, 799.857295, 800.433462, 801.026779, 801.282815, 801.596155, 802.950036, 803.549633, 803.736173, 804.221995, 804.372962, 804.897253, 805.490104, 805.752612, 805.996612, 806.164719, 806.636841, 806.916183, 807.140303, 807.151191, 807.458946, 807.531578, 808.130819, 808.268437, 808.334361, 808.719506, 809.084116, 809.309289, 809.553919, 809.672024, 809.933178, 810.330442, 810.766851, 811.091754, 811.464705, 811.671093, 811.720767, 812.102682, 812.517623, 812.563277, 812.965245, 813.236928, 813.358624, 813.530524, 813.565898, 813.633049, 814.083214, 814.504815, 814.655492, 815.047626, 815.690063, 816.243792, 816.59909, 816.732569, 816.868497, 817.077644, 817.213168, 817.511355, 817.756401, 818.120203, 818.444725, 818.752941, 819.0109, 819.337586, 819.51143, 819.634277, 819.738017, 820.034864, 820.230373, 820.356565, 820.619434, 820.967484, 821.222738, 821.601372, 821.677401, 821.935971, 822.014963, 822.413523, 822.550811, 822.645981, 823.177823, 823.309786, 823.4356, 823.685868, 823.761765, 823.823503, 823.954641, 824.120607, 824.312546, 824.623026, 824.715577, 824.884399, 825.233322, 825.40568, 825.597022, 825.714178, 825.850697, 826.163919, 826.430481, 826.6217, 827.048296, 827.550769, 827.937545, 828.220493, 828.285187, 828.632182, 828.654829, 828.724139, 829.051987, 829.228622, 829.510038, 829.549738, 829.712841, 829.760749, 829.948898, 830.069471, 830.264028, 830.330613, 830.497977, 830.860426, 830.96459, 831.0874, 831.308459, 831.452201, 831.68748, 831.843971, 831.871112, 832.242302, 832.339487, 832.405225, 832.454294, 832.539533, 832.590934, 832.871977, 833.139637, 833.783931, 834.089991, 834.296251, 834.46121, 834.814051, 835.034, 835.535687, 835.732437, 835.813913, 836.009106, 836.058291, 836.071777, 836.172157, 836.230148, 836.391036, 836.466459, 836.583921, 836.847227, 837.102044, 837.261514, 837.300759, 837.535604, 837.891183, 838.120741, 838.22645, 838.545137, 838.626622, 838.77883, 839.089497, 839.230674, 839.389637, 839.43115, 839.565754, 839.706274, 839.7372, 839.847602, 839.878518, 839.988208, 840.023157, 840.203669, 840.300307, 840.434593, 840.589247, 840.658476, 840.734532, 840.83208, 840.872361, 841.037672, 841.161756, 841.489134, 841.804766, 841.917408, 842.14273, 842.615733, 842.914569, 843.100139, 843.227984, 843.341364, 843.450205, 843.546223, 843.6444, 843.712602, 843.781222, 844.015395, 844.281568, 844.396612, 844.441761, 844.601014, 844.75226, 844.911703, 845.164411, 845.684105, 845.89786, 846.007913, 846.128064, 846.34148, 846.441559, 846.573014, 846.643707, 846.843122, 846.97414, 847.200403, 847.499979, 847.605257, 847.726808, 848.016712, 848.548733, 848.612202, 848.790866, 848.945627, 849.281333, 849.511558, 849.707207, 849.861674, 850.011298, 850.224637, 850.411571, 850.649632, 851.22755, 851.532401, 851.599876, 851.729273, 852.078415, 852.225669, 852.329155, 852.4025, 852.567112, 852.64971, 852.750345, 852.875751, 852.932754, 853.299926, 853.438635, 853.637281, 853.912128, 854.15096, 854.664782, 854.841328, 855.141417, 855.507284, 855.663474, 855.801155, 856.032223, 856.132351, 856.446277, 856.671411, 856.900585, 857.014886, 857.109976, 857.279595, 857.31892, 857.388479, 857.457845, 857.517807, 857.630852, 857.679199, 857.707657, 857.797457, 857.904531, 858.019862, 858.134507, 858.325728, 858.488006, 858.791997, 859.196821, 859.571842, 859.961014, 860.152008, 860.345892, 860.489292, 860.565742, 860.708567, 860.921848, 861.117325, 861.191359, 861.44763, 861.680997, 861.748794, 861.850861, 861.881447, 862.010086, 862.156914, 862.305237, 862.347853, 862.434227, 862.610869, 862.842511, 862.966808, 863.106875, 863.425386, 863.489583, 863.632422, 863.764193, 863.839584, 863.94672, 864.081976, 864.260912, 864.512217, 864.562114, 864.66934, 864.855911, 865.05242, 865.26101, 865.361586, 865.43894, 865.615033, 865.64586, 865.914955, 866.285637, 866.444361, 866.616624, 866.841262, 866.980387, 867.067247, 867.159654, 867.56705, 867.912007, 868.148812, 868.164215, 868.208004, 868.422563, 868.537696, 868.712981, 868.821039, 868.984069, 869.05436, 869.205916, 869.44688, 869.627661, 869.718337, 869.827268, 869.933885, 869.984058, 870.019588, 870.137163, 870.255298, 870.356182, 870.550402, 870.695787, 870.73799, 870.796615, 870.873112, 870.936103, 871.078074, 871.127486, 871.281627, 871.351625, 871.461204, 871.570469, 871.598373, 871.806627, 871.87244, 871.982895, 872.019047, 872.134947, 872.26819, 872.285064, 872.428567, 872.620136, 872.708348, 872.830596, 872.919384, 872.951967, 873.085528, 873.265073, 873.358584, 873.4531, 873.595517, 873.69229, 873.972703, 874.179862, 874.374123, 874.575458, 874.851394, 875.110147, 875.191657, 875.365335, 875.435562, 875.484894, 875.611864, 875.650283, 875.682825, 875.726961, 875.762981, 875.890586, 876.053532, 876.177506, 876.206236, 876.383872, 876.420138, 876.647858, 876.863887, 877.145674, 877.278661, 877.630053, 877.712283, 877.847776, 877.990606, 878.300256, 878.675832, 878.79989, 878.869799, 879.123548, 879.242862, 879.493597, 879.620136, 879.727828, 879.853884, 879.878086, 879.955004, 879.981812, 880.104855, 880.199742, 880.251059, 880.311167, 880.381109, 880.439022, 880.665345, 880.692462, 880.961539, 881.27805, 881.480747, 881.596184, 881.723182, 881.739447, 881.928682, 882.202139, 882.272392, 882.326571, 882.444915, 882.570172, 882.609182, 882.615807, 882.806043, 882.840068, 882.899431, 882.965975, 883.004216, 883.156217, 883.497293, 883.754864, 883.833279, 883.901333, 883.947722, 883.973196, 884.018494, 884.24534, 884.335064, 884.469462, 884.509655, 884.740402, 884.906932, 885.079501, 885.212358, 885.343902, 885.449738, 885.521844, 885.594986, 885.678483, 885.727636, 885.740555, 885.785482, 885.939227, 885.955671, 886.220866, 886.310794, 886.510377, 886.644107, 886.807485, 887.029573, 887.132864, 887.365169, 887.521024, 887.696333, 887.828445, 887.946113, 887.964618, 887.977909, 888.093734, 888.373641, 888.419396, 888.475323, 888.577386, 888.632567, 888.746708, 888.840379, 889.157887, 889.327036, 889.449697, 889.515791, 889.851692, 890.076569, 890.095271, 890.335182, 890.479274, 890.609133, 890.709146, 890.822962, 890.898293, 891.050724, 891.260748, 891.443367, 891.621989, 891.690518, 891.784087, 891.872563, 891.920187, 891.926908, 892.053694, 892.214121, 892.569612, 892.671453, 892.771575, 892.854341, 892.96857, 893.092701, 893.145765, 893.370609, 893.469376, 893.508245, 893.624519, 893.684818, 893.979419, 894.143087, 894.302463, 894.553551, 894.629655, 894.726298, 894.888752, 895.050032, 895.219409, 895.262076, 895.360639, 895.556673, 895.725623, 895.74989, 895.779621, 895.987756, 896.160645, 896.468503, 896.720197, 896.839606, 897.164063, 897.291682, 897.749379, 898.000168, 898.151512, 898.640951, 898.807735, 898.830864, 898.988193, 899.073057, 899.213057, 899.323673, 899.436742, 899.5884, 899.625394, 899.851676, 899.95179, 900.105258, 900.147152, 900.23958, 900.327295, 900.378172, 900.400756, 900.562514, 900.735709, 900.862192, 901.01948, 901.063565, 901.128004, 901.236143, 901.303788, 901.347013, 901.391717, 901.49379, 901.524609, 901.617243, 901.867838, 901.892194, 902.051282, 902.204052, 902.422522, 902.547319, 902.694705, 902.781454, 902.947056, 903.24167, 903.328594, 903.497219, 903.66729, 903.761742, 903.966964, 904.067674, 904.499567, 904.730168, 904.800263, 904.976008, 905.214479, 905.423186, 905.515801, 905.877787, 906.064413, 906.309511, 906.551077, 906.670473, 906.746029, 906.840695, 906.950248, 907.487017, 907.815224, 908.096497, 908.174651, 908.323833, 908.422315, 908.553793, 908.66049, 908.726595, 909.003505, 909.05375, 909.221245, 909.492494, 909.718706, 909.901456, 909.979334, 910.088757, 910.153266, 910.231641, 910.411045, 910.480412, 910.538848, 910.588534, 910.600466, 910.740968, 910.765656, 910.865501, 910.950013, 911.1458, 911.202752, 911.27639, 911.41752, 911.438476, 911.5679, 911.614792, 911.756254, 912.019011, 912.155792, 912.217415, 912.307034, 912.38622, 912.420244, 912.513927, 912.671354, 912.760521, 912.997286, 914.12243, 914.434108, 914.58928, 914.735597, 915.132096, 915.292524, 915.371536, 915.508733, 915.53804, 915.757587, 915.80464, 915.885833, 915.914892, 916.011388, 916.058206, 916.138956, 916.353438, 916.45694, 916.55344, 916.962803, 917.141024, 917.190667, 917.35075, 917.396358, 917.539455, 917.85967, 917.994346, 918.112028, 918.179402, 918.331647, 918.452775, 918.531973, 918.687298, 918.882498, 919.057858, 919.097181, 919.475672, 919.905057, 920.035944, 920.129454, 920.267001, 920.280814, 920.365514, 920.483534, 920.656377, 920.914731, 921.007347, 921.075174, 921.124001, 921.351522, 921.436133, 921.531421, 921.759914, 921.90582, 922.30694, 922.38036, 922.477993, 922.500579, 923.114151, 923.392855, 923.65794, 924.294425, 924.704615, 924.807149, 924.995253, 925.096634, 925.222165, 925.304492, 925.385931, 925.536876, 925.719358, 926.107511, 926.31621, 926.369704, 926.82804, 927.154796, 927.30789, 927.442483, 927.579682, 927.78488, 927.934423, 928.045662, 928.41712, 928.587518, 928.702841, 928.841351, 929.082959, 929.186788, 929.468882, 929.557109, 929.684081, 929.916536, 930.043094, 930.16439, 930.434038, 930.586912, 931.232097, 931.546455, 932.005574, 932.234064, 932.432372, 932.569428, 932.616715, 932.948202, 933.17719, 933.619462, 933.801761, 933.857505, 934.003368, 934.095304, 934.135277, 934.279375, 935.015914, 935.183086, 935.491227, 935.67262, 935.825801, 936.000991, 936.227827, 936.363605, 936.431563, 936.47318, 936.679618, 936.781016, 937.102894, 937.334931, 937.508424, 937.614847, 937.642701, 937.891437, 938.030462, 938.40933, 938.86505, 939.073201, 939.238026, 939.299001, 939.498165, 939.563861, 939.613656, 939.72934, 939.932924, 940.493117, 941.243528, 941.429766, 941.617845, 941.744815, 941.97881, 942.257351, 942.458561, 942.538045, 942.603924, 943.057363, 943.452308, 943.958513, 944.27517, 944.389368, 944.467954, 944.865859, 945.089407, 945.198346, 945.563857, 945.730884, 946.680245, 946.860628, 946.988551, 947.445148, 947.673663, 947.988591, 948.180489, 948.230549, 948.293194, 948.457266, 948.502027, 948.775017, 949.426719, 949.709387, 949.901424, 950.063063, 950.165326, 950.316215, 950.386807, 951.591748, 951.841965, 952.30443, 952.441778, 952.900474, 953.492201, 953.708754, 954.002759, 954.137342, 954.357441, 954.475609, 954.586555, 954.946853, 955.239923, 955.430645, 956.247259, 956.37197, 956.731847, 957.845503, 957.982883, 958.21741, 958.314632, 959.156275, 960.383805, 960.762549, 960.876217, 961.387269, 961.657915, 961.858051, 962.543662, 967.24515, 967.428245, 968.64229], \"yaxis\": \"y\"}],\n",
              "                        {\"legend\": {\"tracegroupgap\": 0}, \"template\": {\"data\": {\"bar\": [{\"error_x\": {\"color\": \"#2a3f5f\"}, \"error_y\": {\"color\": \"#2a3f5f\"}, \"marker\": {\"line\": {\"color\": \"#E5ECF6\", \"width\": 0.5}}, \"type\": \"bar\"}], \"barpolar\": [{\"marker\": {\"line\": {\"color\": \"#E5ECF6\", \"width\": 0.5}}, \"type\": \"barpolar\"}], \"carpet\": [{\"aaxis\": {\"endlinecolor\": \"#2a3f5f\", \"gridcolor\": \"white\", \"linecolor\": \"white\", \"minorgridcolor\": \"white\", \"startlinecolor\": \"#2a3f5f\"}, \"baxis\": {\"endlinecolor\": \"#2a3f5f\", \"gridcolor\": \"white\", \"linecolor\": \"white\", \"minorgridcolor\": \"white\", \"startlinecolor\": \"#2a3f5f\"}, \"type\": \"carpet\"}], \"choropleth\": [{\"colorbar\": {\"outlinewidth\": 0, \"ticks\": \"\"}, \"type\": \"choropleth\"}], \"contour\": [{\"colorbar\": {\"outlinewidth\": 0, \"ticks\": \"\"}, \"colorscale\": [[0.0, \"#0d0887\"], [0.1111111111111111, \"#46039f\"], [0.2222222222222222, \"#7201a8\"], [0.3333333333333333, \"#9c179e\"], [0.4444444444444444, \"#bd3786\"], [0.5555555555555556, \"#d8576b\"], [0.6666666666666666, \"#ed7953\"], [0.7777777777777778, \"#fb9f3a\"], [0.8888888888888888, \"#fdca26\"], [1.0, \"#f0f921\"]], \"type\": \"contour\"}], \"contourcarpet\": [{\"colorbar\": {\"outlinewidth\": 0, \"ticks\": \"\"}, \"type\": \"contourcarpet\"}], \"heatmap\": [{\"colorbar\": {\"outlinewidth\": 0, \"ticks\": \"\"}, \"colorscale\": [[0.0, \"#0d0887\"], [0.1111111111111111, \"#46039f\"], [0.2222222222222222, \"#7201a8\"], [0.3333333333333333, \"#9c179e\"], [0.4444444444444444, \"#bd3786\"], [0.5555555555555556, \"#d8576b\"], [0.6666666666666666, \"#ed7953\"], [0.7777777777777778, \"#fb9f3a\"], [0.8888888888888888, \"#fdca26\"], [1.0, \"#f0f921\"]], \"type\": \"heatmap\"}], \"heatmapgl\": [{\"colorbar\": {\"outlinewidth\": 0, \"ticks\": \"\"}, \"colorscale\": [[0.0, \"#0d0887\"], [0.1111111111111111, \"#46039f\"], [0.2222222222222222, \"#7201a8\"], [0.3333333333333333, \"#9c179e\"], [0.4444444444444444, \"#bd3786\"], [0.5555555555555556, \"#d8576b\"], [0.6666666666666666, \"#ed7953\"], [0.7777777777777778, \"#fb9f3a\"], [0.8888888888888888, \"#fdca26\"], [1.0, \"#f0f921\"]], \"type\": \"heatmapgl\"}], \"histogram\": [{\"marker\": {\"colorbar\": {\"outlinewidth\": 0, \"ticks\": \"\"}}, \"type\": \"histogram\"}], \"histogram2d\": [{\"colorbar\": {\"outlinewidth\": 0, \"ticks\": \"\"}, \"colorscale\": [[0.0, \"#0d0887\"], [0.1111111111111111, \"#46039f\"], [0.2222222222222222, \"#7201a8\"], [0.3333333333333333, \"#9c179e\"], [0.4444444444444444, \"#bd3786\"], [0.5555555555555556, \"#d8576b\"], [0.6666666666666666, \"#ed7953\"], [0.7777777777777778, \"#fb9f3a\"], [0.8888888888888888, \"#fdca26\"], [1.0, \"#f0f921\"]], \"type\": \"histogram2d\"}], \"histogram2dcontour\": [{\"colorbar\": {\"outlinewidth\": 0, \"ticks\": \"\"}, \"colorscale\": [[0.0, \"#0d0887\"], [0.1111111111111111, \"#46039f\"], [0.2222222222222222, \"#7201a8\"], [0.3333333333333333, \"#9c179e\"], [0.4444444444444444, \"#bd3786\"], [0.5555555555555556, \"#d8576b\"], [0.6666666666666666, \"#ed7953\"], [0.7777777777777778, \"#fb9f3a\"], [0.8888888888888888, \"#fdca26\"], [1.0, \"#f0f921\"]], \"type\": \"histogram2dcontour\"}], \"mesh3d\": [{\"colorbar\": {\"outlinewidth\": 0, \"ticks\": \"\"}, \"type\": \"mesh3d\"}], \"parcoords\": [{\"line\": {\"colorbar\": {\"outlinewidth\": 0, \"ticks\": \"\"}}, \"type\": \"parcoords\"}], \"pie\": [{\"automargin\": true, \"type\": \"pie\"}], \"scatter\": [{\"marker\": {\"colorbar\": {\"outlinewidth\": 0, \"ticks\": \"\"}}, \"type\": \"scatter\"}], \"scatter3d\": [{\"line\": {\"colorbar\": {\"outlinewidth\": 0, \"ticks\": \"\"}}, \"marker\": {\"colorbar\": {\"outlinewidth\": 0, \"ticks\": \"\"}}, \"type\": \"scatter3d\"}], \"scattercarpet\": [{\"marker\": {\"colorbar\": {\"outlinewidth\": 0, \"ticks\": \"\"}}, \"type\": \"scattercarpet\"}], \"scattergeo\": [{\"marker\": {\"colorbar\": {\"outlinewidth\": 0, \"ticks\": \"\"}}, \"type\": \"scattergeo\"}], \"scattergl\": [{\"marker\": {\"colorbar\": {\"outlinewidth\": 0, \"ticks\": \"\"}}, \"type\": \"scattergl\"}], \"scattermapbox\": [{\"marker\": {\"colorbar\": {\"outlinewidth\": 0, \"ticks\": \"\"}}, \"type\": \"scattermapbox\"}], \"scatterpolar\": [{\"marker\": {\"colorbar\": {\"outlinewidth\": 0, \"ticks\": \"\"}}, \"type\": \"scatterpolar\"}], \"scatterpolargl\": [{\"marker\": {\"colorbar\": {\"outlinewidth\": 0, \"ticks\": \"\"}}, \"type\": \"scatterpolargl\"}], \"scatterternary\": [{\"marker\": {\"colorbar\": {\"outlinewidth\": 0, \"ticks\": \"\"}}, \"type\": \"scatterternary\"}], \"surface\": [{\"colorbar\": {\"outlinewidth\": 0, \"ticks\": \"\"}, \"colorscale\": [[0.0, \"#0d0887\"], [0.1111111111111111, \"#46039f\"], [0.2222222222222222, \"#7201a8\"], [0.3333333333333333, \"#9c179e\"], [0.4444444444444444, \"#bd3786\"], [0.5555555555555556, \"#d8576b\"], [0.6666666666666666, \"#ed7953\"], [0.7777777777777778, \"#fb9f3a\"], [0.8888888888888888, \"#fdca26\"], [1.0, \"#f0f921\"]], \"type\": \"surface\"}], \"table\": [{\"cells\": {\"fill\": {\"color\": \"#EBF0F8\"}, \"line\": {\"color\": \"white\"}}, \"header\": {\"fill\": {\"color\": \"#C8D4E3\"}, \"line\": {\"color\": \"white\"}}, \"type\": \"table\"}]}, \"layout\": {\"annotationdefaults\": {\"arrowcolor\": \"#2a3f5f\", \"arrowhead\": 0, \"arrowwidth\": 1}, \"coloraxis\": {\"colorbar\": {\"outlinewidth\": 0, \"ticks\": \"\"}}, \"colorscale\": {\"diverging\": [[0, \"#8e0152\"], [0.1, \"#c51b7d\"], [0.2, \"#de77ae\"], [0.3, \"#f1b6da\"], [0.4, \"#fde0ef\"], [0.5, \"#f7f7f7\"], [0.6, \"#e6f5d0\"], [0.7, \"#b8e186\"], [0.8, \"#7fbc41\"], [0.9, \"#4d9221\"], [1, \"#276419\"]], \"sequential\": [[0.0, \"#0d0887\"], [0.1111111111111111, \"#46039f\"], [0.2222222222222222, \"#7201a8\"], [0.3333333333333333, \"#9c179e\"], [0.4444444444444444, \"#bd3786\"], [0.5555555555555556, \"#d8576b\"], [0.6666666666666666, \"#ed7953\"], [0.7777777777777778, \"#fb9f3a\"], [0.8888888888888888, \"#fdca26\"], [1.0, \"#f0f921\"]], \"sequentialminus\": [[0.0, \"#0d0887\"], [0.1111111111111111, \"#46039f\"], [0.2222222222222222, \"#7201a8\"], [0.3333333333333333, \"#9c179e\"], [0.4444444444444444, \"#bd3786\"], [0.5555555555555556, \"#d8576b\"], [0.6666666666666666, \"#ed7953\"], [0.7777777777777778, \"#fb9f3a\"], [0.8888888888888888, \"#fdca26\"], [1.0, \"#f0f921\"]]}, \"colorway\": [\"#636efa\", \"#EF553B\", \"#00cc96\", \"#ab63fa\", \"#FFA15A\", \"#19d3f3\", \"#FF6692\", \"#B6E880\", \"#FF97FF\", \"#FECB52\"], \"font\": {\"color\": \"#2a3f5f\"}, \"geo\": {\"bgcolor\": \"white\", \"lakecolor\": \"white\", \"landcolor\": \"#E5ECF6\", \"showlakes\": true, \"showland\": true, \"subunitcolor\": \"white\"}, \"hoverlabel\": {\"align\": \"left\"}, \"hovermode\": \"closest\", \"mapbox\": {\"style\": \"light\"}, \"paper_bgcolor\": \"white\", \"plot_bgcolor\": \"#E5ECF6\", \"polar\": {\"angularaxis\": {\"gridcolor\": \"white\", \"linecolor\": \"white\", \"ticks\": \"\"}, \"bgcolor\": \"#E5ECF6\", \"radialaxis\": {\"gridcolor\": \"white\", \"linecolor\": \"white\", \"ticks\": \"\"}}, \"scene\": {\"xaxis\": {\"backgroundcolor\": \"#E5ECF6\", \"gridcolor\": \"white\", \"gridwidth\": 2, \"linecolor\": \"white\", \"showbackground\": true, \"ticks\": \"\", \"zerolinecolor\": \"white\"}, \"yaxis\": {\"backgroundcolor\": \"#E5ECF6\", \"gridcolor\": \"white\", \"gridwidth\": 2, \"linecolor\": \"white\", \"showbackground\": true, \"ticks\": \"\", \"zerolinecolor\": \"white\"}, \"zaxis\": {\"backgroundcolor\": \"#E5ECF6\", \"gridcolor\": \"white\", \"gridwidth\": 2, \"linecolor\": \"white\", \"showbackground\": true, \"ticks\": \"\", \"zerolinecolor\": \"white\"}}, \"shapedefaults\": {\"line\": {\"color\": \"#2a3f5f\"}}, \"ternary\": {\"aaxis\": {\"gridcolor\": \"white\", \"linecolor\": \"white\", \"ticks\": \"\"}, \"baxis\": {\"gridcolor\": \"white\", \"linecolor\": \"white\", \"ticks\": \"\"}, \"bgcolor\": \"#E5ECF6\", \"caxis\": {\"gridcolor\": \"white\", \"linecolor\": \"white\", \"ticks\": \"\"}}, \"title\": {\"x\": 0.05}, \"xaxis\": {\"automargin\": true, \"gridcolor\": \"white\", \"linecolor\": \"white\", \"ticks\": \"\", \"title\": {\"standoff\": 15}, \"zerolinecolor\": \"white\", \"zerolinewidth\": 2}, \"yaxis\": {\"automargin\": true, \"gridcolor\": \"white\", \"linecolor\": \"white\", \"ticks\": \"\", \"title\": {\"standoff\": 15}, \"zerolinecolor\": \"white\", \"zerolinewidth\": 2}}}, \"title\": {\"text\": \"Eigen Values Distribution\"}, \"xaxis\": {\"anchor\": \"y\", \"domain\": [0.0, 1.0], \"title\": {\"text\": \"Eigen Number\"}}, \"yaxis\": {\"anchor\": \"x\", \"domain\": [0.0, 1.0], \"title\": {\"text\": \"EigenValues\"}}},\n",
              "                        {\"responsive\": true}\n",
              "                    ).then(function(){\n",
              "                            \n",
              "var gd = document.getElementById('b8b7c9e6-4453-44f3-9634-142d436f6292');\n",
              "var x = new MutationObserver(function (mutations, observer) {{\n",
              "        var display = window.getComputedStyle(gd).display;\n",
              "        if (!display || display === 'none') {{\n",
              "            console.log([gd, 'removed!']);\n",
              "            Plotly.purge(gd);\n",
              "            observer.disconnect();\n",
              "        }}\n",
              "}});\n",
              "\n",
              "// Listen for the removal of the full notebook cells\n",
              "var notebookContainer = gd.closest('#notebook-container');\n",
              "if (notebookContainer) {{\n",
              "    x.observe(notebookContainer, {childList: true});\n",
              "}}\n",
              "\n",
              "// Listen for the clearing of the current output cell\n",
              "var outputEl = gd.closest('.output');\n",
              "if (outputEl) {{\n",
              "    x.observe(outputEl, {childList: true});\n",
              "}}\n",
              "\n",
              "                        })\n",
              "                };\n",
              "                \n",
              "            </script>\n",
              "        </div>\n",
              "</body>\n",
              "</html>"
            ]
          },
          "metadata": {
            "tags": []
          }
        }
      ]
    },
    {
      "cell_type": "code",
      "metadata": {
        "id": "s9f9QgZu9lzM",
        "colab": {
          "base_uri": "https://localhost:8080/",
          "height": 106
        },
        "outputId": "8b06fe92-154c-4e94-e96e-366ee7f8910d"
      },
      "source": [
        "df[df['EigenValues'] <0.25]\n"
      ],
      "execution_count": null,
      "outputs": [
        {
          "output_type": "execute_result",
          "data": {
            "text/html": [
              "<div>\n",
              "<style scoped>\n",
              "    .dataframe tbody tr th:only-of-type {\n",
              "        vertical-align: middle;\n",
              "    }\n",
              "\n",
              "    .dataframe tbody tr th {\n",
              "        vertical-align: top;\n",
              "    }\n",
              "\n",
              "    .dataframe thead th {\n",
              "        text-align: right;\n",
              "    }\n",
              "</style>\n",
              "<table border=\"1\" class=\"dataframe\">\n",
              "  <thead>\n",
              "    <tr style=\"text-align: right;\">\n",
              "      <th></th>\n",
              "      <th>EigenValues</th>\n",
              "    </tr>\n",
              "  </thead>\n",
              "  <tbody>\n",
              "    <tr>\n",
              "      <th>0</th>\n",
              "      <td>-0.0</td>\n",
              "    </tr>\n",
              "    <tr>\n",
              "      <th>1</th>\n",
              "      <td>-0.0</td>\n",
              "    </tr>\n",
              "  </tbody>\n",
              "</table>\n",
              "</div>"
            ],
            "text/plain": [
              "   EigenValues\n",
              "0         -0.0\n",
              "1         -0.0"
            ]
          },
          "metadata": {
            "tags": []
          },
          "execution_count": 116
        }
      ]
    },
    {
      "cell_type": "code",
      "metadata": {
        "id": "ZcB2URDJAd6t",
        "colab": {
          "base_uri": "https://localhost:8080/",
          "height": 284
        },
        "outputId": "973eab4f-fd98-4843-fd0e-79576650c35b"
      },
      "source": [
        "df.describe()"
      ],
      "execution_count": null,
      "outputs": [
        {
          "output_type": "execute_result",
          "data": {
            "text/html": [
              "<div>\n",
              "<style scoped>\n",
              "    .dataframe tbody tr th:only-of-type {\n",
              "        vertical-align: middle;\n",
              "    }\n",
              "\n",
              "    .dataframe tbody tr th {\n",
              "        vertical-align: top;\n",
              "    }\n",
              "\n",
              "    .dataframe thead th {\n",
              "        text-align: right;\n",
              "    }\n",
              "</style>\n",
              "<table border=\"1\" class=\"dataframe\">\n",
              "  <thead>\n",
              "    <tr style=\"text-align: right;\">\n",
              "      <th></th>\n",
              "      <th>EigenValues</th>\n",
              "    </tr>\n",
              "  </thead>\n",
              "  <tbody>\n",
              "    <tr>\n",
              "      <th>count</th>\n",
              "      <td>1163.000000</td>\n",
              "    </tr>\n",
              "    <tr>\n",
              "      <th>mean</th>\n",
              "      <td>834.600484</td>\n",
              "    </tr>\n",
              "    <tr>\n",
              "      <th>std</th>\n",
              "      <td>106.491775</td>\n",
              "    </tr>\n",
              "    <tr>\n",
              "      <th>min</th>\n",
              "      <td>-0.000000</td>\n",
              "    </tr>\n",
              "    <tr>\n",
              "      <th>25%</th>\n",
              "      <td>805.193679</td>\n",
              "    </tr>\n",
              "    <tr>\n",
              "      <th>50%</th>\n",
              "      <td>862.966808</td>\n",
              "    </tr>\n",
              "    <tr>\n",
              "      <th>75%</th>\n",
              "      <td>901.742541</td>\n",
              "    </tr>\n",
              "    <tr>\n",
              "      <th>max</th>\n",
              "      <td>968.642290</td>\n",
              "    </tr>\n",
              "  </tbody>\n",
              "</table>\n",
              "</div>"
            ],
            "text/plain": [
              "       EigenValues\n",
              "count  1163.000000\n",
              "mean    834.600484\n",
              "std     106.491775\n",
              "min      -0.000000\n",
              "25%     805.193679\n",
              "50%     862.966808\n",
              "75%     901.742541\n",
              "max     968.642290"
            ]
          },
          "metadata": {
            "tags": []
          },
          "execution_count": 117
        }
      ]
    },
    {
      "cell_type": "code",
      "metadata": {
        "id": "WdPMFGcBAn7R",
        "colab": {
          "base_uri": "https://localhost:8080/"
        },
        "outputId": "fa082ed0-666a-4070-dd58-46f7f75b0288"
      },
      "source": [
        "df.quantile(.003)"
      ],
      "execution_count": null,
      "outputs": [
        {
          "output_type": "execute_result",
          "data": {
            "text/plain": [
              "EigenValues    94.33182\n",
              "Name: 0.003, dtype: float64"
            ]
          },
          "metadata": {
            "tags": []
          },
          "execution_count": 118
        }
      ]
    },
    {
      "cell_type": "code",
      "metadata": {
        "id": "Fxl7mQMYFC96",
        "colab": {
          "base_uri": "https://localhost:8080/",
          "height": 639
        },
        "outputId": "33e44197-ff11-45a7-e61a-f9c66477fc13"
      },
      "source": [
        "df.head(20)"
      ],
      "execution_count": null,
      "outputs": [
        {
          "output_type": "execute_result",
          "data": {
            "text/html": [
              "<div>\n",
              "<style scoped>\n",
              "    .dataframe tbody tr th:only-of-type {\n",
              "        vertical-align: middle;\n",
              "    }\n",
              "\n",
              "    .dataframe tbody tr th {\n",
              "        vertical-align: top;\n",
              "    }\n",
              "\n",
              "    .dataframe thead th {\n",
              "        text-align: right;\n",
              "    }\n",
              "</style>\n",
              "<table border=\"1\" class=\"dataframe\">\n",
              "  <thead>\n",
              "    <tr style=\"text-align: right;\">\n",
              "      <th></th>\n",
              "      <th>EigenValues</th>\n",
              "    </tr>\n",
              "  </thead>\n",
              "  <tbody>\n",
              "    <tr>\n",
              "      <th>0</th>\n",
              "      <td>-0.000000</td>\n",
              "    </tr>\n",
              "    <tr>\n",
              "      <th>1</th>\n",
              "      <td>-0.000000</td>\n",
              "    </tr>\n",
              "    <tr>\n",
              "      <th>2</th>\n",
              "      <td>2.047558</td>\n",
              "    </tr>\n",
              "    <tr>\n",
              "      <th>3</th>\n",
              "      <td>52.967335</td>\n",
              "    </tr>\n",
              "    <tr>\n",
              "      <th>4</th>\n",
              "      <td>138.079445</td>\n",
              "    </tr>\n",
              "    <tr>\n",
              "      <th>5</th>\n",
              "      <td>508.591849</td>\n",
              "    </tr>\n",
              "    <tr>\n",
              "      <th>6</th>\n",
              "      <td>515.603609</td>\n",
              "    </tr>\n",
              "    <tr>\n",
              "      <th>7</th>\n",
              "      <td>526.218710</td>\n",
              "    </tr>\n",
              "    <tr>\n",
              "      <th>8</th>\n",
              "      <td>534.250776</td>\n",
              "    </tr>\n",
              "    <tr>\n",
              "      <th>9</th>\n",
              "      <td>540.301887</td>\n",
              "    </tr>\n",
              "    <tr>\n",
              "      <th>10</th>\n",
              "      <td>546.312147</td>\n",
              "    </tr>\n",
              "    <tr>\n",
              "      <th>11</th>\n",
              "      <td>554.026794</td>\n",
              "    </tr>\n",
              "    <tr>\n",
              "      <th>12</th>\n",
              "      <td>556.898498</td>\n",
              "    </tr>\n",
              "    <tr>\n",
              "      <th>13</th>\n",
              "      <td>561.226349</td>\n",
              "    </tr>\n",
              "    <tr>\n",
              "      <th>14</th>\n",
              "      <td>567.988985</td>\n",
              "    </tr>\n",
              "    <tr>\n",
              "      <th>15</th>\n",
              "      <td>570.351896</td>\n",
              "    </tr>\n",
              "    <tr>\n",
              "      <th>16</th>\n",
              "      <td>571.286169</td>\n",
              "    </tr>\n",
              "    <tr>\n",
              "      <th>17</th>\n",
              "      <td>571.878922</td>\n",
              "    </tr>\n",
              "    <tr>\n",
              "      <th>18</th>\n",
              "      <td>572.614258</td>\n",
              "    </tr>\n",
              "    <tr>\n",
              "      <th>19</th>\n",
              "      <td>573.124310</td>\n",
              "    </tr>\n",
              "  </tbody>\n",
              "</table>\n",
              "</div>"
            ],
            "text/plain": [
              "    EigenValues\n",
              "0     -0.000000\n",
              "1     -0.000000\n",
              "2      2.047558\n",
              "3     52.967335\n",
              "4    138.079445\n",
              "5    508.591849\n",
              "6    515.603609\n",
              "7    526.218710\n",
              "8    534.250776\n",
              "9    540.301887\n",
              "10   546.312147\n",
              "11   554.026794\n",
              "12   556.898498\n",
              "13   561.226349\n",
              "14   567.988985\n",
              "15   570.351896\n",
              "16   571.286169\n",
              "17   571.878922\n",
              "18   572.614258\n",
              "19   573.124310"
            ]
          },
          "metadata": {
            "tags": []
          },
          "execution_count": 119
        }
      ]
    },
    {
      "cell_type": "code",
      "metadata": {
        "id": "AJPqwPx3FjAf"
      },
      "source": [
        "rounded_vec = np.round(vecs, 6)"
      ],
      "execution_count": null,
      "outputs": []
    },
    {
      "cell_type": "code",
      "metadata": {
        "id": "Le4E5q1vQp_q",
        "colab": {
          "base_uri": "https://localhost:8080/"
        },
        "outputId": "a30f1dc1-b166-4d05-f7b5-3b0e2650da10"
      },
      "source": [
        "rounded_vec[1]"
      ],
      "execution_count": null,
      "outputs": [
        {
          "output_type": "execute_result",
          "data": {
            "text/plain": [
              "array([ 0.0000e+00,  2.9336e-02,  8.7000e-04, ..., -9.7000e-05,\n",
              "        4.5000e-05,  6.3000e-05])"
            ]
          },
          "metadata": {
            "tags": []
          },
          "execution_count": 121
        }
      ]
    },
    {
      "cell_type": "code",
      "metadata": {
        "id": "PjKrh9di-cuW"
      },
      "source": [
        "def get_kmeans_cluster_stats(n_clusters=5, verbose=0):\n",
        "    \"\"\"Function to provide stats of distribution\"\"\"\n",
        "    kmeans = KMeans(n_clusters=n_clusters, verbose=verbose,random_state=123)\n",
        "    kmeans.fit(vecs[:,1:n_clusters])\n",
        "    cluster_labels = kmeans.labels_\n",
        "    cluster_values = pd.DataFrame(cluster_labels, columns=[\"Cluster\"])\n",
        "    cluster_distribution = cluster_values.value_counts().reset_index().rename(columns={0:\"Count\"})\n",
        "    cluster_distribution[\"Coverage\"] = (np.round(cluster_distribution[\"Count\"]/cluster_distribution[\"Count\"].sum(), 4) * 100).astype(str)\n",
        "    cluster_distribution[\"Coverage\"] = cluster_distribution[\"Coverage\"].apply(lambda x: x+\"%\")\n",
        "    print(f\"💥Sum of Squared Error for {n_clusters} clusters is {np.round(kmeans.inertia_, 6):.6f}💥\")\n",
        "    cluster_with_less_count = cluster_distribution[cluster_distribution[\"Count\"] < 10][\"Cluster\"].tolist()\n",
        "    cluster_with_less_count_string = \", \".join(str(x) for x in cluster_with_less_count[:-1]) + \" and \" + str(cluster_with_less_count[-1])\n",
        "    print(f\"💥Clusters with low cardinalities are {cluster_with_less_count_string}💥\")\n",
        "    for each_cluster in cluster_with_less_count:\n",
        "        position_of_low_cardinality = np.argwhere(cluster_labels==each_cluster)\n",
        "        position_of_low_cardinality_string = \", \".join(str(x[0]) for x in position_of_low_cardinality)\n",
        "        print(f\"💥Cluster {each_cluster} has {position_of_low_cardinality_string} row💥\")\n",
        "    print(\"\\n💥Below is the Cluster Distribution💥\\n\")\n",
        "    display(cluster_distribution)\n",
        "    return cluster_distribution, kmeans"
      ],
      "execution_count": null,
      "outputs": []
    },
    {
      "cell_type": "code",
      "metadata": {
        "id": "ryu_6nCs51ff",
        "colab": {
          "base_uri": "https://localhost:8080/",
          "height": 254
        },
        "outputId": "876d22de-110f-4450-af54-8414757e30b7"
      },
      "source": [
        "cluster_distribution, kmeans = get_kmeans_cluster_stats(n_clusters=3,)"
      ],
      "execution_count": null,
      "outputs": [
        {
          "output_type": "stream",
          "text": [
            "💥Sum of Squared Error for 3 clusters is 0.000060💥\n",
            "💥Clusters with low cardinalities are 2 and 1💥\n",
            "💥Cluster 2 has 555 row💥\n",
            "💥Cluster 1 has 97 row💥\n",
            "\n",
            "💥Below is the Cluster Distribution💥\n",
            "\n"
          ],
          "name": "stdout"
        },
        {
          "output_type": "display_data",
          "data": {
            "text/html": [
              "<div>\n",
              "<style scoped>\n",
              "    .dataframe tbody tr th:only-of-type {\n",
              "        vertical-align: middle;\n",
              "    }\n",
              "\n",
              "    .dataframe tbody tr th {\n",
              "        vertical-align: top;\n",
              "    }\n",
              "\n",
              "    .dataframe thead th {\n",
              "        text-align: right;\n",
              "    }\n",
              "</style>\n",
              "<table border=\"1\" class=\"dataframe\">\n",
              "  <thead>\n",
              "    <tr style=\"text-align: right;\">\n",
              "      <th></th>\n",
              "      <th>Cluster</th>\n",
              "      <th>Count</th>\n",
              "      <th>Coverage</th>\n",
              "    </tr>\n",
              "  </thead>\n",
              "  <tbody>\n",
              "    <tr>\n",
              "      <th>0</th>\n",
              "      <td>0</td>\n",
              "      <td>1161</td>\n",
              "      <td>99.83%</td>\n",
              "    </tr>\n",
              "    <tr>\n",
              "      <th>1</th>\n",
              "      <td>2</td>\n",
              "      <td>1</td>\n",
              "      <td>0.09%</td>\n",
              "    </tr>\n",
              "    <tr>\n",
              "      <th>2</th>\n",
              "      <td>1</td>\n",
              "      <td>1</td>\n",
              "      <td>0.09%</td>\n",
              "    </tr>\n",
              "  </tbody>\n",
              "</table>\n",
              "</div>"
            ],
            "text/plain": [
              "   Cluster  Count Coverage\n",
              "0        0   1161   99.83%\n",
              "1        2      1    0.09%\n",
              "2        1      1    0.09%"
            ]
          },
          "metadata": {
            "tags": []
          }
        }
      ]
    },
    {
      "cell_type": "code",
      "metadata": {
        "id": "xkqAqmYI_jTw",
        "colab": {
          "base_uri": "https://localhost:8080/",
          "height": 305
        },
        "outputId": "af95aac2-38ef-477b-d0ea-5b24574832aa"
      },
      "source": [
        "cluster_distribution, kmeans = get_kmeans_cluster_stats(n_clusters=4,)"
      ],
      "execution_count": null,
      "outputs": [
        {
          "output_type": "error",
          "ename": "NameError",
          "evalue": "ignored",
          "traceback": [
            "\u001b[0;31m---------------------------------------------------------------------------\u001b[0m",
            "\u001b[0;31mNameError\u001b[0m                                 Traceback (most recent call last)",
            "\u001b[0;32m<ipython-input-1-03d6d080ad19>\u001b[0m in \u001b[0;36m<module>\u001b[0;34m()\u001b[0m\n\u001b[0;32m----> 1\u001b[0;31m \u001b[0mcluster_distribution\u001b[0m\u001b[0;34m,\u001b[0m \u001b[0mkmeans\u001b[0m \u001b[0;34m=\u001b[0m \u001b[0mget_kmeans_cluster_stats\u001b[0m\u001b[0;34m(\u001b[0m\u001b[0mn_clusters\u001b[0m\u001b[0;34m=\u001b[0m\u001b[0;36m4\u001b[0m\u001b[0;34m,\u001b[0m\u001b[0;34m)\u001b[0m\u001b[0;34m\u001b[0m\u001b[0;34m\u001b[0m\u001b[0m\n\u001b[0m",
            "\u001b[0;31mNameError\u001b[0m: name 'get_kmeans_cluster_stats' is not defined"
          ]
        }
      ]
    },
    {
      "cell_type": "code",
      "metadata": {
        "id": "JytiEcYfmcTL",
        "colab": {
          "base_uri": "https://localhost:8080/",
          "height": 346
        },
        "outputId": "6027c9b1-3e74-4d01-cb0a-82114fc2e861"
      },
      "source": [
        "cluster_distribution, kmeans = get_kmeans_cluster_stats(n_clusters=5,)"
      ],
      "execution_count": null,
      "outputs": [
        {
          "output_type": "stream",
          "text": [
            "💥Sum of Squared Error for 5 clusters is 0.000005💥\n",
            "💥Clusters with low cardinalities are 4, 3, 2 and 1💥\n",
            "💥Cluster 4 has 555 row💥\n",
            "💥Cluster 3 has 20 row💥\n",
            "💥Cluster 2 has 220 row💥\n",
            "💥Cluster 1 has 97 row💥\n",
            "\n",
            "💥Below is the Cluster Distribution💥\n",
            "\n"
          ],
          "name": "stdout"
        },
        {
          "output_type": "display_data",
          "data": {
            "text/html": [
              "<div>\n",
              "<style scoped>\n",
              "    .dataframe tbody tr th:only-of-type {\n",
              "        vertical-align: middle;\n",
              "    }\n",
              "\n",
              "    .dataframe tbody tr th {\n",
              "        vertical-align: top;\n",
              "    }\n",
              "\n",
              "    .dataframe thead th {\n",
              "        text-align: right;\n",
              "    }\n",
              "</style>\n",
              "<table border=\"1\" class=\"dataframe\">\n",
              "  <thead>\n",
              "    <tr style=\"text-align: right;\">\n",
              "      <th></th>\n",
              "      <th>Cluster</th>\n",
              "      <th>Count</th>\n",
              "      <th>Coverage</th>\n",
              "    </tr>\n",
              "  </thead>\n",
              "  <tbody>\n",
              "    <tr>\n",
              "      <th>0</th>\n",
              "      <td>0</td>\n",
              "      <td>1159</td>\n",
              "      <td>0.9966</td>\n",
              "    </tr>\n",
              "    <tr>\n",
              "      <th>1</th>\n",
              "      <td>4</td>\n",
              "      <td>1</td>\n",
              "      <td>0.0009</td>\n",
              "    </tr>\n",
              "    <tr>\n",
              "      <th>2</th>\n",
              "      <td>3</td>\n",
              "      <td>1</td>\n",
              "      <td>0.0009</td>\n",
              "    </tr>\n",
              "    <tr>\n",
              "      <th>3</th>\n",
              "      <td>2</td>\n",
              "      <td>1</td>\n",
              "      <td>0.0009</td>\n",
              "    </tr>\n",
              "    <tr>\n",
              "      <th>4</th>\n",
              "      <td>1</td>\n",
              "      <td>1</td>\n",
              "      <td>0.0009</td>\n",
              "    </tr>\n",
              "  </tbody>\n",
              "</table>\n",
              "</div>"
            ],
            "text/plain": [
              "   Cluster  Count  Coverage\n",
              "0        0   1159    0.9966\n",
              "1        4      1    0.0009\n",
              "2        3      1    0.0009\n",
              "3        2      1    0.0009\n",
              "4        1      1    0.0009"
            ]
          },
          "metadata": {
            "tags": []
          }
        }
      ]
    },
    {
      "cell_type": "code",
      "metadata": {
        "id": "YH41MeAe7Cw4"
      },
      "source": [
        ""
      ],
      "execution_count": null,
      "outputs": []
    },
    {
      "cell_type": "code",
      "metadata": {
        "id": "eJt4Ic2tmctF",
        "colab": {
          "base_uri": "https://localhost:8080/",
          "height": 434
        },
        "outputId": "5187e254-981a-458c-aa07-1ff9cc60f77b"
      },
      "source": [
        "get_kmeans_cluster_stats(n_clusters=4,verbose=0)"
      ],
      "execution_count": null,
      "outputs": [
        {
          "output_type": "stream",
          "text": [
            "💥Sum of Squared Error for 4 clusters is 0.000002💥\n",
            "💥Clusters with low cardinalities are 3, 2 and 1💥\n",
            "💥Cluster 3 has 555, 662 row💥\n",
            "💥Cluster 2 has 220 row💥\n",
            "💥Cluster 1 has 97 row💥\n",
            "\n",
            "💥Below is the Cluster Distribution💥\n",
            "\n"
          ],
          "name": "stdout"
        },
        {
          "output_type": "display_data",
          "data": {
            "text/html": [
              "<div>\n",
              "<style scoped>\n",
              "    .dataframe tbody tr th:only-of-type {\n",
              "        vertical-align: middle;\n",
              "    }\n",
              "\n",
              "    .dataframe tbody tr th {\n",
              "        vertical-align: top;\n",
              "    }\n",
              "\n",
              "    .dataframe thead th {\n",
              "        text-align: right;\n",
              "    }\n",
              "</style>\n",
              "<table border=\"1\" class=\"dataframe\">\n",
              "  <thead>\n",
              "    <tr style=\"text-align: right;\">\n",
              "      <th></th>\n",
              "      <th>Cluster</th>\n",
              "      <th>Count</th>\n",
              "      <th>Coverage</th>\n",
              "    </tr>\n",
              "  </thead>\n",
              "  <tbody>\n",
              "    <tr>\n",
              "      <th>0</th>\n",
              "      <td>0</td>\n",
              "      <td>1159</td>\n",
              "      <td>0.9966</td>\n",
              "    </tr>\n",
              "    <tr>\n",
              "      <th>1</th>\n",
              "      <td>3</td>\n",
              "      <td>2</td>\n",
              "      <td>0.0017</td>\n",
              "    </tr>\n",
              "    <tr>\n",
              "      <th>2</th>\n",
              "      <td>2</td>\n",
              "      <td>1</td>\n",
              "      <td>0.0009</td>\n",
              "    </tr>\n",
              "    <tr>\n",
              "      <th>3</th>\n",
              "      <td>1</td>\n",
              "      <td>1</td>\n",
              "      <td>0.0009</td>\n",
              "    </tr>\n",
              "  </tbody>\n",
              "</table>\n",
              "</div>"
            ],
            "text/plain": [
              "   Cluster  Count  Coverage\n",
              "0        0   1159    0.9966\n",
              "1        3      2    0.0017\n",
              "2        2      1    0.0009\n",
              "3        1      1    0.0009"
            ]
          },
          "metadata": {
            "tags": []
          }
        },
        {
          "output_type": "execute_result",
          "data": {
            "text/plain": [
              "(   Cluster  Count  Coverage\n",
              " 0        0   1159    0.9966\n",
              " 1        3      2    0.0017\n",
              " 2        2      1    0.0009\n",
              " 3        1      1    0.0009,\n",
              " KMeans(algorithm='auto', copy_x=True, init='k-means++', max_iter=300,\n",
              "        n_clusters=4, n_init=10, n_jobs=None, precompute_distances='auto',\n",
              "        random_state=123, tol=0.0001, verbose=0))"
            ]
          },
          "metadata": {
            "tags": []
          },
          "execution_count": 168
        }
      ]
    },
    {
      "cell_type": "code",
      "metadata": {
        "id": "4ILOYsgG828P",
        "colab": {
          "base_uri": "https://localhost:8080/"
        },
        "outputId": "1d263c89-54e7-441e-c250-7ea3af8b4fd4"
      },
      "source": [
        "kmeans.inertia_"
      ],
      "execution_count": null,
      "outputs": [
        {
          "output_type": "execute_result",
          "data": {
            "text/plain": [
              "4.8989130054586364e-06"
            ]
          },
          "metadata": {
            "tags": []
          },
          "execution_count": 41
        }
      ]
    },
    {
      "cell_type": "code",
      "metadata": {
        "id": "ws5rYAsa8-vJ",
        "colab": {
          "base_uri": "https://localhost:8080/",
          "height": 195
        },
        "outputId": "45bba7b7-6b10-41e0-993b-a7a270ff31f5"
      },
      "source": [
        "cluster_values = pd.DataFrame(colors, columns=[\"Cluster\"])\n",
        "cluster_values.value_counts().reset_index()"
      ],
      "execution_count": null,
      "outputs": [
        {
          "output_type": "execute_result",
          "data": {
            "text/html": [
              "<div>\n",
              "<style scoped>\n",
              "    .dataframe tbody tr th:only-of-type {\n",
              "        vertical-align: middle;\n",
              "    }\n",
              "\n",
              "    .dataframe tbody tr th {\n",
              "        vertical-align: top;\n",
              "    }\n",
              "\n",
              "    .dataframe thead th {\n",
              "        text-align: right;\n",
              "    }\n",
              "</style>\n",
              "<table border=\"1\" class=\"dataframe\">\n",
              "  <thead>\n",
              "    <tr style=\"text-align: right;\">\n",
              "      <th></th>\n",
              "      <th>Cluster</th>\n",
              "      <th>0</th>\n",
              "    </tr>\n",
              "  </thead>\n",
              "  <tbody>\n",
              "    <tr>\n",
              "      <th>0</th>\n",
              "      <td>0</td>\n",
              "      <td>1159</td>\n",
              "    </tr>\n",
              "    <tr>\n",
              "      <th>1</th>\n",
              "      <td>4</td>\n",
              "      <td>1</td>\n",
              "    </tr>\n",
              "    <tr>\n",
              "      <th>2</th>\n",
              "      <td>3</td>\n",
              "      <td>1</td>\n",
              "    </tr>\n",
              "    <tr>\n",
              "      <th>3</th>\n",
              "      <td>2</td>\n",
              "      <td>1</td>\n",
              "    </tr>\n",
              "    <tr>\n",
              "      <th>4</th>\n",
              "      <td>1</td>\n",
              "      <td>1</td>\n",
              "    </tr>\n",
              "  </tbody>\n",
              "</table>\n",
              "</div>"
            ],
            "text/plain": [
              "   Cluster     0\n",
              "0        0  1159\n",
              "1        4     1\n",
              "2        3     1\n",
              "3        2     1\n",
              "4        1     1"
            ]
          },
          "metadata": {
            "tags": []
          },
          "execution_count": 44
        }
      ]
    },
    {
      "cell_type": "code",
      "metadata": {
        "id": "ijjzusa6-Nqc",
        "colab": {
          "base_uri": "https://localhost:8080/",
          "height": 195
        },
        "outputId": "93cb86da-6e4c-402d-b620-bcaa4055c53e"
      },
      "source": [
        "cluster_labels = kmeans.labels_\n",
        "cluster_values = pd.DataFrame(cluster_labels, columns=[\"Cluster\"])\n",
        "cluster_distribution = cluster_values.value_counts().reset_index().rename(columns={0:\"Count\"})\n",
        "cluster_distribution"
      ],
      "execution_count": null,
      "outputs": [
        {
          "output_type": "execute_result",
          "data": {
            "text/html": [
              "<div>\n",
              "<style scoped>\n",
              "    .dataframe tbody tr th:only-of-type {\n",
              "        vertical-align: middle;\n",
              "    }\n",
              "\n",
              "    .dataframe tbody tr th {\n",
              "        vertical-align: top;\n",
              "    }\n",
              "\n",
              "    .dataframe thead th {\n",
              "        text-align: right;\n",
              "    }\n",
              "</style>\n",
              "<table border=\"1\" class=\"dataframe\">\n",
              "  <thead>\n",
              "    <tr style=\"text-align: right;\">\n",
              "      <th></th>\n",
              "      <th>Cluster</th>\n",
              "      <th>Count</th>\n",
              "    </tr>\n",
              "  </thead>\n",
              "  <tbody>\n",
              "    <tr>\n",
              "      <th>0</th>\n",
              "      <td>0</td>\n",
              "      <td>1159</td>\n",
              "    </tr>\n",
              "    <tr>\n",
              "      <th>1</th>\n",
              "      <td>4</td>\n",
              "      <td>1</td>\n",
              "    </tr>\n",
              "    <tr>\n",
              "      <th>2</th>\n",
              "      <td>3</td>\n",
              "      <td>1</td>\n",
              "    </tr>\n",
              "    <tr>\n",
              "      <th>3</th>\n",
              "      <td>2</td>\n",
              "      <td>1</td>\n",
              "    </tr>\n",
              "    <tr>\n",
              "      <th>4</th>\n",
              "      <td>1</td>\n",
              "      <td>1</td>\n",
              "    </tr>\n",
              "  </tbody>\n",
              "</table>\n",
              "</div>"
            ],
            "text/plain": [
              "   Cluster  Count\n",
              "0        0   1159\n",
              "1        4      1\n",
              "2        3      1\n",
              "3        2      1\n",
              "4        1      1"
            ]
          },
          "metadata": {
            "tags": []
          },
          "execution_count": 57
        }
      ]
    },
    {
      "cell_type": "code",
      "metadata": {
        "id": "9HhcNrYk_wDB",
        "colab": {
          "base_uri": "https://localhost:8080/"
        },
        "outputId": "25857008-2b9e-4b3e-93c9-caef0dfd1084"
      },
      "source": [
        "cluster_distribution.columns"
      ],
      "execution_count": null,
      "outputs": [
        {
          "output_type": "execute_result",
          "data": {
            "text/plain": [
              "Index(['Cluster', 0], dtype='object')"
            ]
          },
          "metadata": {
            "tags": []
          },
          "execution_count": 56
        }
      ]
    },
    {
      "cell_type": "code",
      "metadata": {
        "id": "E0w_XUOaAmIC"
      },
      "source": [
        ""
      ],
      "execution_count": null,
      "outputs": []
    }
  ]
}